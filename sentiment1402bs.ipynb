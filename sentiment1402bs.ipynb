{
 "cells": [
  {
   "cell_type": "code",
   "execution_count": 1,
   "metadata": {
    "colab": {
     "base_uri": "https://localhost:8080/",
     "height": 3409
    },
    "colab_type": "code",
    "executionInfo": {
     "elapsed": 181423,
     "status": "ok",
     "timestamp": 1549459462269,
     "user": {
      "displayName": "Michael Schimpke",
      "photoUrl": "",
      "userId": "08866054739853401103"
     },
     "user_tz": -60
    },
    "id": "oU2jqmXTRihq",
    "outputId": "612625a6-7234-4961-d2ee-1529e8526595"
   },
   "outputs": [
    {
     "name": "stdout",
     "output_type": "stream",
     "text": [
      "Requirement already satisfied: fastai==0.7.0 in c:\\users\\lenovo\\anaconda3\\envs\\fastai-cpu\\lib\\site-packages (0.7.0)\n",
      "Requirement already satisfied: jedi in c:\\users\\lenovo\\anaconda3\\envs\\fastai-cpu\\lib\\site-packages (from fastai==0.7.0) (0.13.3)\n",
      "Requirement already satisfied: widgetsnbextension in c:\\users\\lenovo\\anaconda3\\envs\\fastai-cpu\\lib\\site-packages (from fastai==0.7.0) (3.4.2)\n",
      "Requirement already satisfied: ipython-genutils in c:\\users\\lenovo\\anaconda3\\envs\\fastai-cpu\\lib\\site-packages (from fastai==0.7.0) (0.2.0)\n",
      "Requirement already satisfied: tqdm in c:\\users\\lenovo\\anaconda3\\envs\\fastai-cpu\\lib\\site-packages (from fastai==0.7.0) (4.31.1)\n",
      "Requirement already satisfied: sklearn-pandas in c:\\users\\lenovo\\anaconda3\\envs\\fastai-cpu\\lib\\site-packages (from fastai==0.7.0) (1.8.0)\n",
      "Requirement already satisfied: decorator in c:\\users\\lenovo\\anaconda3\\envs\\fastai-cpu\\lib\\site-packages (from fastai==0.7.0) (4.4.0)\n",
      "Requirement already satisfied: bcolz in c:\\users\\lenovo\\anaconda3\\envs\\fastai-cpu\\lib\\site-packages (from fastai==0.7.0) (1.2.1)\n",
      "Requirement already satisfied: certifi in c:\\users\\lenovo\\anaconda3\\envs\\fastai-cpu\\lib\\site-packages (from fastai==0.7.0) (2019.3.9)\n",
      "Requirement already satisfied: pandas in c:\\users\\lenovo\\anaconda3\\envs\\fastai-cpu\\lib\\site-packages (from fastai==0.7.0) (0.24.2)\n",
      "Requirement already satisfied: testpath in c:\\users\\lenovo\\anaconda3\\envs\\fastai-cpu\\lib\\site-packages (from fastai==0.7.0) (0.4.2)\n",
      "Requirement already satisfied: entrypoints in c:\\users\\lenovo\\anaconda3\\envs\\fastai-cpu\\lib\\site-packages (from fastai==0.7.0) (0.3)\n",
      "Requirement already satisfied: numpy in c:\\users\\lenovo\\anaconda3\\envs\\fastai-cpu\\lib\\site-packages (from fastai==0.7.0) (1.15.1)\n",
      "Requirement already satisfied: Pygments in c:\\users\\lenovo\\anaconda3\\envs\\fastai-cpu\\lib\\site-packages (from fastai==0.7.0) (2.3.1)\n",
      "Requirement already satisfied: tornado in c:\\users\\lenovo\\anaconda3\\envs\\fastai-cpu\\lib\\site-packages (from fastai==0.7.0) (4.5.3)\n",
      "Requirement already satisfied: pickleshare in c:\\users\\lenovo\\anaconda3\\envs\\fastai-cpu\\lib\\site-packages (from fastai==0.7.0) (0.7.5)\n",
      "Requirement already satisfied: ipykernel in c:\\users\\lenovo\\anaconda3\\envs\\fastai-cpu\\lib\\site-packages (from fastai==0.7.0) (5.1.0)\n",
      "Requirement already satisfied: isoweek in c:\\users\\lenovo\\anaconda3\\envs\\fastai-cpu\\lib\\site-packages (from fastai==0.7.0) (1.3.3)\n",
      "Requirement already satisfied: jsonschema in c:\\users\\lenovo\\anaconda3\\envs\\fastai-cpu\\lib\\site-packages (from fastai==0.7.0) (3.0.1)\n",
      "Requirement already satisfied: plotnine in c:\\users\\lenovo\\anaconda3\\envs\\fastai-cpu\\lib\\site-packages (from fastai==0.7.0) (0.5.1)\n",
      "Requirement already satisfied: torchtext in c:\\users\\lenovo\\anaconda3\\envs\\fastai-cpu\\lib\\site-packages (from fastai==0.7.0) (0.2.3)\n",
      "Requirement already satisfied: ipython in c:\\users\\lenovo\\anaconda3\\envs\\fastai-cpu\\lib\\site-packages (from fastai==0.7.0) (7.4.0)\n",
      "Requirement already satisfied: webencodings in c:\\users\\lenovo\\anaconda3\\envs\\fastai-cpu\\lib\\site-packages (from fastai==0.7.0) (0.5.1)\n",
      "Requirement already satisfied: traitlets in c:\\users\\lenovo\\anaconda3\\envs\\fastai-cpu\\lib\\site-packages (from fastai==0.7.0) (4.3.2)\n",
      "Requirement already satisfied: ipywidgets in c:\\users\\lenovo\\anaconda3\\envs\\fastai-cpu\\lib\\site-packages (from fastai==0.7.0) (7.4.2)\n",
      "Requirement already satisfied: Pillow in c:\\users\\lenovo\\anaconda3\\envs\\fastai-cpu\\lib\\site-packages (from fastai==0.7.0) (6.0.0)\n",
      "Requirement already satisfied: simplegeneric in c:\\users\\lenovo\\anaconda3\\envs\\fastai-cpu\\lib\\site-packages (from fastai==0.7.0) (0.8.1)\n",
      "Requirement already satisfied: html5lib in c:\\users\\lenovo\\anaconda3\\envs\\fastai-cpu\\lib\\site-packages (from fastai==0.7.0) (1.0.1)\n",
      "Requirement already satisfied: Jinja2 in c:\\users\\lenovo\\anaconda3\\envs\\fastai-cpu\\lib\\site-packages (from fastai==0.7.0) (2.10.1)\n",
      "Requirement already satisfied: matplotlib in c:\\users\\lenovo\\anaconda3\\envs\\fastai-cpu\\lib\\site-packages (from fastai==0.7.0) (2.2.3)\n",
      "Requirement already satisfied: pandas-summary in c:\\users\\lenovo\\anaconda3\\envs\\fastai-cpu\\lib\\site-packages (from fastai==0.7.0) (0.0.6)\n",
      "Requirement already satisfied: torch<0.4 in c:\\users\\lenovo\\anaconda3\\envs\\fastai-cpu\\lib\\site-packages (from fastai==0.7.0) (0.3.1.post2)\n",
      "Requirement already satisfied: scipy in c:\\users\\lenovo\\anaconda3\\envs\\fastai-cpu\\lib\\site-packages (from fastai==0.7.0) (1.2.1)\n",
      "Requirement already satisfied: graphviz in c:\\users\\lenovo\\anaconda3\\envs\\fastai-cpu\\lib\\site-packages (from fastai==0.7.0) (0.10.1)\n",
      "Requirement already satisfied: jupyter in c:\\users\\lenovo\\anaconda3\\envs\\fastai-cpu\\lib\\site-packages (from fastai==0.7.0) (1.0.0)\n",
      "Requirement already satisfied: cycler in c:\\users\\lenovo\\anaconda3\\envs\\fastai-cpu\\lib\\site-packages (from fastai==0.7.0) (0.10.0)\n",
      "Requirement already satisfied: pytz in c:\\users\\lenovo\\anaconda3\\envs\\fastai-cpu\\lib\\site-packages (from fastai==0.7.0) (2019.1)\n",
      "Requirement already satisfied: pyparsing in c:\\users\\lenovo\\anaconda3\\envs\\fastai-cpu\\lib\\site-packages (from fastai==0.7.0) (2.4.0)\n",
      "Requirement already satisfied: opencv-python in c:\\users\\lenovo\\anaconda3\\envs\\fastai-cpu\\lib\\site-packages (from fastai==0.7.0) (4.1.0.25)\n",
      "Requirement already satisfied: ptyprocess in c:\\users\\lenovo\\anaconda3\\envs\\fastai-cpu\\lib\\site-packages (from fastai==0.7.0) (0.6.0)\n",
      "Requirement already satisfied: pyzmq in c:\\users\\lenovo\\anaconda3\\envs\\fastai-cpu\\lib\\site-packages (from fastai==0.7.0) (18.0.0)\n",
      "Requirement already satisfied: seaborn in c:\\users\\lenovo\\anaconda3\\envs\\fastai-cpu\\lib\\site-packages (from fastai==0.7.0) (0.9.0)\n",
      "Requirement already satisfied: wcwidth in c:\\users\\lenovo\\anaconda3\\envs\\fastai-cpu\\lib\\site-packages (from fastai==0.7.0) (0.1.7)\n",
      "Requirement already satisfied: bleach in c:\\users\\lenovo\\anaconda3\\envs\\fastai-cpu\\lib\\site-packages (from fastai==0.7.0) (3.1.0)\n",
      "Requirement already satisfied: torchvision in c:\\users\\lenovo\\anaconda3\\envs\\fastai-cpu\\lib\\site-packages (from fastai==0.7.0) (0.1.9)\n",
      "Requirement already satisfied: PyYAML in c:\\users\\lenovo\\anaconda3\\envs\\fastai-cpu\\lib\\site-packages (from fastai==0.7.0) (5.1)\n",
      "Requirement already satisfied: python-dateutil in c:\\users\\lenovo\\anaconda3\\envs\\fastai-cpu\\lib\\site-packages (from fastai==0.7.0) (2.8.0)\n",
      "Requirement already satisfied: MarkupSafe in c:\\users\\lenovo\\anaconda3\\envs\\fastai-cpu\\lib\\site-packages (from fastai==0.7.0) (1.1.1)\n",
      "Requirement already satisfied: feather-format in c:\\users\\lenovo\\anaconda3\\envs\\fastai-cpu\\lib\\site-packages (from fastai==0.7.0) (0.4.0)\n",
      "Requirement already satisfied: parso>=0.3.0 in c:\\users\\lenovo\\anaconda3\\envs\\fastai-cpu\\lib\\site-packages (from jedi->fastai==0.7.0) (0.4.0)\n",
      "Requirement already satisfied: notebook>=4.4.1 in c:\\users\\lenovo\\anaconda3\\envs\\fastai-cpu\\lib\\site-packages (from widgetsnbextension->fastai==0.7.0) (5.7.8)\n",
      "Requirement already satisfied: scikit-learn>=0.15.0 in c:\\users\\lenovo\\anaconda3\\envs\\fastai-cpu\\lib\\site-packages (from sklearn-pandas->fastai==0.7.0) (0.20.3)\n",
      "Requirement already satisfied: jupyter-client in c:\\users\\lenovo\\anaconda3\\envs\\fastai-cpu\\lib\\site-packages (from ipykernel->fastai==0.7.0) (5.2.4)\n",
      "Requirement already satisfied: attrs>=17.4.0 in c:\\users\\lenovo\\anaconda3\\envs\\fastai-cpu\\lib\\site-packages (from jsonschema->fastai==0.7.0) (19.1.0)\n",
      "Requirement already satisfied: pyrsistent>=0.14.0 in c:\\users\\lenovo\\anaconda3\\envs\\fastai-cpu\\lib\\site-packages (from jsonschema->fastai==0.7.0) (0.14.11)\n",
      "Requirement already satisfied: setuptools in c:\\users\\lenovo\\anaconda3\\envs\\fastai-cpu\\lib\\site-packages (from jsonschema->fastai==0.7.0) (41.0.0)\n",
      "Requirement already satisfied: six>=1.11.0 in c:\\users\\lenovo\\anaconda3\\envs\\fastai-cpu\\lib\\site-packages (from jsonschema->fastai==0.7.0) (1.12.0)\n",
      "Requirement already satisfied: descartes>=1.1.0 in c:\\users\\lenovo\\anaconda3\\envs\\fastai-cpu\\lib\\site-packages (from plotnine->fastai==0.7.0) (1.1.0)\n",
      "Requirement already satisfied: patsy>=0.4.1 in c:\\users\\lenovo\\anaconda3\\envs\\fastai-cpu\\lib\\site-packages (from plotnine->fastai==0.7.0) (0.5.1)\n",
      "Requirement already satisfied: statsmodels>=0.8.0 in c:\\users\\lenovo\\anaconda3\\envs\\fastai-cpu\\lib\\site-packages (from plotnine->fastai==0.7.0) (0.9.0)\n",
      "Requirement already satisfied: mizani>=0.5.2 in c:\\users\\lenovo\\anaconda3\\envs\\fastai-cpu\\lib\\site-packages (from plotnine->fastai==0.7.0) (0.5.4)\n",
      "Requirement already satisfied: requests in c:\\users\\lenovo\\anaconda3\\envs\\fastai-cpu\\lib\\site-packages (from torchtext->fastai==0.7.0) (2.21.0)\n",
      "Requirement already satisfied: prompt-toolkit<2.1.0,>=2.0.0 in c:\\users\\lenovo\\anaconda3\\envs\\fastai-cpu\\lib\\site-packages (from ipython->fastai==0.7.0) (2.0.9)\n",
      "Requirement already satisfied: backcall in c:\\users\\lenovo\\anaconda3\\envs\\fastai-cpu\\lib\\site-packages (from ipython->fastai==0.7.0) (0.1.0)\n",
      "Requirement already satisfied: colorama; sys_platform == \"win32\" in c:\\users\\lenovo\\anaconda3\\envs\\fastai-cpu\\lib\\site-packages (from ipython->fastai==0.7.0) (0.4.1)\n",
      "Requirement already satisfied: nbformat>=4.2.0 in c:\\users\\lenovo\\anaconda3\\envs\\fastai-cpu\\lib\\site-packages (from ipywidgets->fastai==0.7.0) (4.4.0)\n",
      "Requirement already satisfied: kiwisolver>=1.0.1 in c:\\users\\lenovo\\anaconda3\\envs\\fastai-cpu\\lib\\site-packages (from matplotlib->fastai==0.7.0) (1.0.1)\n",
      "Requirement already satisfied: nbconvert in c:\\users\\lenovo\\anaconda3\\envs\\fastai-cpu\\lib\\site-packages (from jupyter->fastai==0.7.0) (5.4.1)\n",
      "Requirement already satisfied: jupyter-console in c:\\users\\lenovo\\anaconda3\\envs\\fastai-cpu\\lib\\site-packages (from jupyter->fastai==0.7.0) (6.0.0)\n",
      "Requirement already satisfied: qtconsole in c:\\users\\lenovo\\anaconda3\\envs\\fastai-cpu\\lib\\site-packages (from jupyter->fastai==0.7.0) (4.4.3)\n",
      "Requirement already satisfied: pyarrow>=0.4.0 in c:\\users\\lenovo\\anaconda3\\envs\\fastai-cpu\\lib\\site-packages (from feather-format->fastai==0.7.0) (0.13.0)\n",
      "Requirement already satisfied: jupyter-core>=4.4.0 in c:\\users\\lenovo\\anaconda3\\envs\\fastai-cpu\\lib\\site-packages (from notebook>=4.4.1->widgetsnbextension->fastai==0.7.0) (4.4.0)\n",
      "Requirement already satisfied: terminado>=0.8.1 in c:\\users\\lenovo\\anaconda3\\envs\\fastai-cpu\\lib\\site-packages (from notebook>=4.4.1->widgetsnbextension->fastai==0.7.0) (0.8.2)\n",
      "Requirement already satisfied: Send2Trash in c:\\users\\lenovo\\anaconda3\\envs\\fastai-cpu\\lib\\site-packages (from notebook>=4.4.1->widgetsnbextension->fastai==0.7.0) (1.5.0)\n",
      "Requirement already satisfied: prometheus-client in c:\\users\\lenovo\\anaconda3\\envs\\fastai-cpu\\lib\\site-packages (from notebook>=4.4.1->widgetsnbextension->fastai==0.7.0) (0.6.0)\n",
      "Requirement already satisfied: palettable in c:\\users\\lenovo\\anaconda3\\envs\\fastai-cpu\\lib\\site-packages (from mizani>=0.5.2->plotnine->fastai==0.7.0) (3.1.1)\n",
      "Requirement already satisfied: urllib3<1.25,>=1.21.1 in c:\\users\\lenovo\\anaconda3\\envs\\fastai-cpu\\lib\\site-packages (from requests->torchtext->fastai==0.7.0) (1.24.1)\n",
      "Requirement already satisfied: idna<2.9,>=2.5 in c:\\users\\lenovo\\anaconda3\\envs\\fastai-cpu\\lib\\site-packages (from requests->torchtext->fastai==0.7.0) (2.8)\n",
      "Requirement already satisfied: chardet<3.1.0,>=3.0.2 in c:\\users\\lenovo\\anaconda3\\envs\\fastai-cpu\\lib\\site-packages (from requests->torchtext->fastai==0.7.0) (3.0.4)\n",
      "Requirement already satisfied: mistune>=0.8.1 in c:\\users\\lenovo\\anaconda3\\envs\\fastai-cpu\\lib\\site-packages (from nbconvert->jupyter->fastai==0.7.0) (0.8.4)\n",
      "Requirement already satisfied: pandocfilters>=1.4.1 in c:\\users\\lenovo\\anaconda3\\envs\\fastai-cpu\\lib\\site-packages (from nbconvert->jupyter->fastai==0.7.0) (1.4.2)\n",
      "Requirement already satisfied: defusedxml in c:\\users\\lenovo\\anaconda3\\envs\\fastai-cpu\\lib\\site-packages (from nbconvert->jupyter->fastai==0.7.0) (0.6.0)\n"
     ]
    },
    {
     "name": "stdout",
     "output_type": "stream",
     "text": [
      "Requirement already satisfied: torchtext==0.2.3 in c:\\users\\lenovo\\anaconda3\\envs\\fastai-cpu\\lib\\site-packages (0.2.3)\n",
      "Requirement already satisfied: tqdm in c:\\users\\lenovo\\anaconda3\\envs\\fastai-cpu\\lib\\site-packages (from torchtext==0.2.3) (4.31.1)\n",
      "Requirement already satisfied: requests in c:\\users\\lenovo\\anaconda3\\envs\\fastai-cpu\\lib\\site-packages (from torchtext==0.2.3) (2.21.0)\n",
      "Requirement already satisfied: urllib3<1.25,>=1.21.1 in c:\\users\\lenovo\\anaconda3\\envs\\fastai-cpu\\lib\\site-packages (from requests->torchtext==0.2.3) (1.24.1)\n",
      "Requirement already satisfied: certifi>=2017.4.17 in c:\\users\\lenovo\\anaconda3\\envs\\fastai-cpu\\lib\\site-packages (from requests->torchtext==0.2.3) (2019.3.9)\n",
      "Requirement already satisfied: idna<2.9,>=2.5 in c:\\users\\lenovo\\anaconda3\\envs\\fastai-cpu\\lib\\site-packages (from requests->torchtext==0.2.3) (2.8)\n",
      "Requirement already satisfied: chardet<3.1.0,>=3.0.2 in c:\\users\\lenovo\\anaconda3\\envs\\fastai-cpu\\lib\\site-packages (from requests->torchtext==0.2.3) (3.0.4)\n",
      "Requirement already satisfied: spacy in c:\\users\\lenovo\\anaconda3\\envs\\fastai-cpu\\lib\\site-packages (2.0.18)\n",
      "Requirement already satisfied: numpy>=1.15.0 in c:\\users\\lenovo\\anaconda3\\envs\\fastai-cpu\\lib\\site-packages (from spacy) (1.15.1)\n",
      "Requirement already satisfied: murmurhash<1.1.0,>=0.28.0 in c:\\users\\lenovo\\anaconda3\\envs\\fastai-cpu\\lib\\site-packages (from spacy) (1.0.2)\n",
      "Requirement already satisfied: cymem<2.1.0,>=2.0.2 in c:\\users\\lenovo\\anaconda3\\envs\\fastai-cpu\\lib\\site-packages (from spacy) (2.0.2)\n",
      "Requirement already satisfied: preshed<2.1.0,>=2.0.1 in c:\\users\\lenovo\\anaconda3\\envs\\fastai-cpu\\lib\\site-packages (from spacy) (2.0.1)\n",
      "Requirement already satisfied: thinc<6.13.0,>=6.12.1 in c:\\users\\lenovo\\anaconda3\\envs\\fastai-cpu\\lib\\site-packages (from spacy) (6.12.1)\n",
      "Requirement already satisfied: plac<1.0.0,>=0.9.6 in c:\\users\\lenovo\\anaconda3\\envs\\fastai-cpu\\lib\\site-packages (from spacy) (0.9.6)\n",
      "Requirement already satisfied: ujson>=1.35 in c:\\users\\lenovo\\anaconda3\\envs\\fastai-cpu\\lib\\site-packages (from spacy) (1.35)\n",
      "Requirement already satisfied: dill<0.3,>=0.2 in c:\\users\\lenovo\\anaconda3\\envs\\fastai-cpu\\lib\\site-packages (from spacy) (0.2.9)\n",
      "Requirement already satisfied: regex==2018.01.10 in c:\\users\\lenovo\\anaconda3\\envs\\fastai-cpu\\lib\\site-packages (from spacy) (2018.1.10)\n",
      "Requirement already satisfied: requests<3.0.0,>=2.13.0 in c:\\users\\lenovo\\anaconda3\\envs\\fastai-cpu\\lib\\site-packages (from spacy) (2.21.0)\n",
      "Requirement already satisfied: msgpack<0.6.0,>=0.5.6 in c:\\users\\lenovo\\anaconda3\\envs\\fastai-cpu\\lib\\site-packages (from thinc<6.13.0,>=6.12.1->spacy) (0.5.6)\n",
      "Requirement already satisfied: msgpack-numpy<0.4.4 in c:\\users\\lenovo\\anaconda3\\envs\\fastai-cpu\\lib\\site-packages (from thinc<6.13.0,>=6.12.1->spacy) (0.4.3.2)\n",
      "Requirement already satisfied: cytoolz<0.10,>=0.9.0 in c:\\users\\lenovo\\anaconda3\\envs\\fastai-cpu\\lib\\site-packages (from thinc<6.13.0,>=6.12.1->spacy) (0.9.0.1)\n",
      "Requirement already satisfied: wrapt<1.11.0,>=1.10.0 in c:\\users\\lenovo\\anaconda3\\envs\\fastai-cpu\\lib\\site-packages (from thinc<6.13.0,>=6.12.1->spacy) (1.10.11)\n",
      "Requirement already satisfied: tqdm<5.0.0,>=4.10.0 in c:\\users\\lenovo\\anaconda3\\envs\\fastai-cpu\\lib\\site-packages (from thinc<6.13.0,>=6.12.1->spacy) (4.31.1)\n",
      "Requirement already satisfied: six<2.0.0,>=1.10.0 in c:\\users\\lenovo\\anaconda3\\envs\\fastai-cpu\\lib\\site-packages (from thinc<6.13.0,>=6.12.1->spacy) (1.12.0)\n",
      "Requirement already satisfied: certifi>=2017.4.17 in c:\\users\\lenovo\\anaconda3\\envs\\fastai-cpu\\lib\\site-packages (from requests<3.0.0,>=2.13.0->spacy) (2019.3.9)\n",
      "Requirement already satisfied: urllib3<1.25,>=1.21.1 in c:\\users\\lenovo\\anaconda3\\envs\\fastai-cpu\\lib\\site-packages (from requests<3.0.0,>=2.13.0->spacy) (1.24.1)\n",
      "Requirement already satisfied: idna<2.9,>=2.5 in c:\\users\\lenovo\\anaconda3\\envs\\fastai-cpu\\lib\\site-packages (from requests<3.0.0,>=2.13.0->spacy) (2.8)\n",
      "Requirement already satisfied: chardet<3.1.0,>=3.0.2 in c:\\users\\lenovo\\anaconda3\\envs\\fastai-cpu\\lib\\site-packages (from requests<3.0.0,>=2.13.0->spacy) (3.0.4)\n",
      "Requirement already satisfied: toolz>=0.8.0 in c:\\users\\lenovo\\anaconda3\\envs\\fastai-cpu\\lib\\site-packages (from cytoolz<0.10,>=0.9.0->thinc<6.13.0,>=6.12.1->spacy) (0.9.0)\n"
     ]
    },
    {
     "name": "stderr",
     "output_type": "stream",
     "text": [
      "Traceback (most recent call last):\n",
      "  File \"C:\\Users\\lenovo\\Anaconda3\\envs\\fastai-cpu\\lib\\site-packages\\urllib3\\connectionpool.py\", line 594, in urlopen\n",
      "    self._prepare_proxy(conn)\n",
      "  File \"C:\\Users\\lenovo\\Anaconda3\\envs\\fastai-cpu\\lib\\site-packages\\urllib3\\connectionpool.py\", line 805, in _prepare_proxy\n",
      "    conn.connect()\n",
      "  File \"C:\\Users\\lenovo\\Anaconda3\\envs\\fastai-cpu\\lib\\site-packages\\urllib3\\connection.py\", line 308, in connect\n",
      "    self._tunnel()\n",
      "  File \"C:\\Users\\lenovo\\Anaconda3\\envs\\fastai-cpu\\lib\\http\\client.py\", line 919, in _tunnel\n",
      "    message.strip()))\n",
      "OSError: Tunnel connection failed: 403 Forbidden\n",
      "\n",
      "During handling of the above exception, another exception occurred:\n",
      "\n",
      "Traceback (most recent call last):\n",
      "  File \"C:\\Users\\lenovo\\Anaconda3\\envs\\fastai-cpu\\lib\\site-packages\\requests\\adapters.py\", line 449, in send\n",
      "    timeout=timeout\n",
      "  File \"C:\\Users\\lenovo\\Anaconda3\\envs\\fastai-cpu\\lib\\site-packages\\urllib3\\connectionpool.py\", line 638, in urlopen\n",
      "    _stacktrace=sys.exc_info()[2])\n",
      "  File \"C:\\Users\\lenovo\\Anaconda3\\envs\\fastai-cpu\\lib\\site-packages\\urllib3\\util\\retry.py\", line 398, in increment\n",
      "    raise MaxRetryError(_pool, url, error or ResponseError(cause))\n",
      "urllib3.exceptions.MaxRetryError: HTTPSConnectionPool(host='raw.githubusercontent.com', port=443): Max retries exceeded with url: /explosion/spacy-models/master/shortcuts-v2.json (Caused by ProxyError('Cannot connect to proxy.', OSError('Tunnel connection failed: 403 Forbidden',)))\n",
      "\n",
      "During handling of the above exception, another exception occurred:\n",
      "\n",
      "Traceback (most recent call last):\n",
      "  File \"C:\\Users\\lenovo\\Anaconda3\\envs\\fastai-cpu\\lib\\runpy.py\", line 193, in _run_module_as_main\n",
      "    \"__main__\", mod_spec)\n",
      "  File \"C:\\Users\\lenovo\\Anaconda3\\envs\\fastai-cpu\\lib\\runpy.py\", line 85, in _run_code\n",
      "    exec(code, run_globals)\n",
      "  File \"C:\\Users\\lenovo\\Anaconda3\\envs\\fastai-cpu\\lib\\site-packages\\spacy\\__main__.py\", line 31, in <module>\n",
      "    plac.call(commands[command], sys.argv[1:])\n",
      "  File \"C:\\Users\\lenovo\\Anaconda3\\envs\\fastai-cpu\\lib\\site-packages\\plac_core.py\", line 328, in call\n",
      "    cmd, result = parser.consume(arglist)\n",
      "  File \"C:\\Users\\lenovo\\Anaconda3\\envs\\fastai-cpu\\lib\\site-packages\\plac_core.py\", line 207, in consume\n",
      "    return cmd, self.func(*(args + varargs + extraopts), **kwargs)\n",
      "  File \"C:\\Users\\lenovo\\Anaconda3\\envs\\fastai-cpu\\lib\\site-packages\\spacy\\cli\\download.py\", line 31, in download\n",
      "    shortcuts = get_json(about.__shortcuts__, \"available shortcuts\")\n",
      "  File \"C:\\Users\\lenovo\\Anaconda3\\envs\\fastai-cpu\\lib\\site-packages\\spacy\\cli\\download.py\", line 54, in get_json\n",
      "    r = requests.get(url)\n",
      "  File \"C:\\Users\\lenovo\\Anaconda3\\envs\\fastai-cpu\\lib\\site-packages\\requests\\api.py\", line 75, in get\n",
      "    return request('get', url, params=params, **kwargs)\n",
      "  File \"C:\\Users\\lenovo\\Anaconda3\\envs\\fastai-cpu\\lib\\site-packages\\requests\\api.py\", line 60, in request\n",
      "    return session.request(method=method, url=url, **kwargs)\n",
      "  File \"C:\\Users\\lenovo\\Anaconda3\\envs\\fastai-cpu\\lib\\site-packages\\requests\\sessions.py\", line 533, in request\n",
      "    resp = self.send(prep, **send_kwargs)\n",
      "  File \"C:\\Users\\lenovo\\Anaconda3\\envs\\fastai-cpu\\lib\\site-packages\\requests\\sessions.py\", line 646, in send\n",
      "    r = adapter.send(request, **kwargs)\n",
      "  File \"C:\\Users\\lenovo\\Anaconda3\\envs\\fastai-cpu\\lib\\site-packages\\requests\\adapters.py\", line 510, in send\n",
      "    raise ProxyError(e, request=request)\n",
      "requests.exceptions.ProxyError: HTTPSConnectionPool(host='raw.githubusercontent.com', port=443): Max retries exceeded with url: /explosion/spacy-models/master/shortcuts-v2.json (Caused by ProxyError('Cannot connect to proxy.', OSError('Tunnel connection failed: 403 Forbidden',)))\n"
     ]
    },
    {
     "name": "stdout",
     "output_type": "stream",
     "text": [
      "Requirement already satisfied: nbimporter in c:\\users\\lenovo\\anaconda3\\envs\\fastai-cpu\\lib\\site-packages (0.3.1)\n"
     ]
    }
   ],
   "source": [
    "import pandas as pd\n",
    "import numpy as np\n",
    "import torch\n",
    "!pip install fastai==0.7.0\n",
    "!pip install torchtext==0.2.3\n",
    "\n",
    "import fastai\n",
    "from fastai.imports import *\n",
    "from fastai.torch_imports import *\n",
    "from fastai.core import *\n",
    "from fastai.model import fit\n",
    "from fastai.dataset import *\n",
    "\n",
    "from sklearn.svm import LinearSVC\n",
    "\n",
    "import torchtext\n",
    "from torchtext import vocab, data\n",
    "from torchtext.datasets import language_modeling\n",
    "\n",
    "from fastai.rnn_reg import *\n",
    "from fastai.rnn_train import *\n",
    "from fastai.nlp import *\n",
    "from fastai.lm_rnn import *\n",
    "from fastai.text import *\n",
    "from sklearn import svm\n",
    "\n",
    "import dill as pickle\n",
    "!pip install spacy\n",
    "!python -m spacy download en\n",
    "import spacy\n",
    "import html\n",
    "\n",
    "import pickle\n",
    "import collections\n",
    "import math\n",
    "!pip install nbimporter\n",
    "import nbimporter"
   ]
  },
  {
   "cell_type": "code",
   "execution_count": 4,
   "metadata": {
    "colab": {},
    "colab_type": "code",
    "id": "j999xq9HP0SF"
   },
   "outputs": [
    {
     "name": "stdout",
     "output_type": "stream",
     "text": [
      "0\n",
      "1\n",
      "2\n",
      "3\n",
      "4\n",
      "5\n",
      "6\n",
      "7\n",
      "8\n",
      "9\n",
      "10\n",
      "11\n",
      "0\n",
      "1\n"
     ]
    }
   ],
   "source": [
    "## DATA CLEANING AND TOKENIZATION\n",
    "\n",
    "# define paths and load data\n",
    "clas_path  = Path('model_extension_parameters/fine_tuning_big_dataset/clas')\n",
    "lm_path    = Path('model_extension_parameters/fine_tuning_big_dataset/lm')\n",
    "total_data = pd.read_csv('datasets/sentiment140.csv', encoding = 'latin-1', \n",
    "                         header = None, names = [\"target\", \"id\", \"date\", \"flag\", \"user\", \"text\"])\n",
    "PATH=Path('datasets/sentiment140.csv')\n",
    "\n",
    "np.random.seed(39)\n",
    "rndm_idx     = np.random.permutation(len(total_data))\n",
    "rndm_idx_lim = rndm_idx[0:300000]\n",
    "my_data      = total_data.iloc[rndm_idx_lim,]\n",
    "\n",
    "y = my_data.target\n",
    "x = my_data.text\n",
    "\n",
    "## classification\n",
    "# create training and validation sets\n",
    "trn_texts,val_texts, trn_labels, val_labels = sklearn.model_selection.train_test_split(\n",
    "                                              x, y, test_size = 0.2,\n",
    "                                              random_state = 41)\n",
    "\n",
    "trn_texts  = np.array(trn_texts)\n",
    "trn_labels = np.array(trn_labels)\n",
    "val_texts  = np.array(val_texts)\n",
    "val_labels = np.array(val_labels)\n",
    "\n",
    "\n",
    "# randomize order\n",
    "np.random.seed(42)\n",
    "trn_idx = np.random.permutation(len(trn_texts))\n",
    "val_idx = np.random.permutation(len(val_texts))\n",
    "\n",
    "\n",
    "# reorder texts\n",
    "trn_texts = trn_texts[trn_idx]\n",
    "val_texts = val_texts[val_idx]\n",
    "\n",
    "\n",
    "# reorder labels \n",
    "trn_labels = trn_labels[trn_idx]\n",
    "val_labels = val_labels[val_idx]\n",
    "\n",
    "\n",
    "# create dataframe\n",
    "col_names = ['labels','text']\n",
    "df_trn    = pd.DataFrame({'text':trn_texts, 'labels':trn_labels}, \n",
    "                         columns = col_names)\n",
    "df_val    = pd.DataFrame({'text':val_texts, 'labels':val_labels}, \n",
    "                         columns = col_names)\n",
    "\n",
    "\n",
    "# save training and validation dataset\n",
    "classes = ['Positive', 'Negative', 'Neutral']\n",
    "df_trn.to_csv(clas_path/'train.csv', header = False, index = False)\n",
    "df_val.to_csv(clas_path/'test.csv', header = False, index = False)\n",
    "(clas_path/'classes.txt').open('w').writelines(f'{o}\\n' for o in classes)\n",
    "\n",
    "\n",
    "## language model\n",
    "# create training and validation sets\n",
    "trn_texts, val_texts = sklearn.model_selection.train_test_split(\n",
    "                       np.concatenate([trn_texts,val_texts]), test_size = 0.1,\n",
    "                       random_state = 43)\n",
    "\n",
    "\n",
    "# saving training and validation dataset\n",
    "df_trn = pd.DataFrame({'text':trn_texts, 'labels':\n",
    "                       [0]*len(trn_texts)}, columns=col_names)\n",
    "df_val = pd.DataFrame({'text':val_texts, 'labels':\n",
    "                       [0]*len(val_texts)}, columns=col_names)\n",
    "\n",
    "df_trn.to_csv(lm_path/'train.csv', header=False, index=False)\n",
    "df_val.to_csv(lm_path/'test.csv', header=False, index=False)\n",
    "from functions import Prep\n",
    "\n",
    "# tokenization\n",
    "chunksize = 24000\n",
    "BOS = 'xbos'  # beginning-of-sentence tag\n",
    "df_trn = pd.read_csv(lm_path/'train.csv', header = None, \n",
    "                     chunksize = chunksize)\n",
    "df_val = pd.read_csv(lm_path/'test.csv', header = None, \n",
    "                     chunksize = chunksize)\n",
    "\n",
    "tok_trn, trn_labels = Prep.get_all(df_trn, 1)\n",
    "tok_val, val_labels = Prep.get_all(df_val, 1)\n",
    "\n",
    "# save tokenization\n",
    "np.save(lm_path/'tok_trn.npy', tok_trn)"
   ]
  },
  {
   "cell_type": "code",
   "execution_count": 5,
   "metadata": {
    "colab": {
     "base_uri": "https://localhost:8080/",
     "height": 174
    },
    "colab_type": "code",
    "executionInfo": {
     "elapsed": 16839,
     "status": "ok",
     "timestamp": 1549316992073,
     "user": {
      "displayName": "Michael Schimpke",
      "photoUrl": "",
      "userId": "08866054739853401103"
     },
     "user_tz": -60
    },
    "id": "HlWY9XWqP0SJ",
    "outputId": "cb16ad4d-bf39-4c6b-9428-ba1c4676bcda"
   },
   "outputs": [
    {
     "name": "stdout",
     "output_type": "stream",
     "text": [
      "0\n",
      "1\n",
      "2\n",
      "3\n",
      "4\n",
      "5\n",
      "6\n",
      "7\n",
      "8\n",
      "9\n",
      "10\n",
      "11\n",
      "0\n",
      "1\n"
     ]
    }
   ],
   "source": [
    "from functions import Prep\n",
    "\n",
    "# tokenization\n",
    "chunksize = 24000\n",
    "BOS       = 'xbos'  # beginning-of-sentence tag\n",
    "df_trn    = pd.read_csv(lm_path/'train.csv', header = None, chunksize = chunksize)\n",
    "df_val    = pd.read_csv(lm_path/'test.csv', header = None, chunksize = chunksize)\n",
    "\n",
    "tok_trn, trn_labels = Prep.get_all(df_trn, 1)\n",
    "tok_val, val_labels = Prep.get_all(df_val, 1)\n",
    "\n",
    "# save tokenization\n",
    "np.save(lm_path/'tok_trn.npy', tok_trn)\n",
    "np.save(lm_path/'tok_val.npy', tok_val)"
   ]
  },
  {
   "cell_type": "code",
   "execution_count": 6,
   "metadata": {
    "colab": {},
    "colab_type": "code",
    "id": "qx90RCydP0SM"
   },
   "outputs": [],
   "source": [
    "# limit vocabulary\n",
    "max_vocab = 60000\n",
    "min_freq  = 2\n",
    "\n",
    "freq = Counter(p for o in tok_trn for p in o)\n",
    "\n",
    "\n",
    "# create translation from integer to string and string to integer\n",
    "itos = [o for o,c in freq.most_common(max_vocab) if c > min_freq]\n",
    "itos.insert(0, '_unk_')\n",
    "itos.insert(1, '_pad_')\n",
    "\n",
    "stoi = collections.defaultdict(lambda:0, \n",
    "                               {v:k for k,v in enumerate(itos)})\n",
    "\n",
    "\n",
    "# tweets expressed as integers\n",
    "trn_lm = np.array([[stoi[o] for o in p] for p in tok_trn])\n",
    "val_lm = np.array([[stoi[o] for o in p] for p in tok_val])\n",
    "\n",
    "\n",
    "# save dictionary\n",
    "np.save(lm_path/'trn_ids.npy', trn_lm)\n",
    "np.save(lm_path/'val_ids.npy', val_lm)\n",
    "pickle.dump(itos, open(lm_path/'itos.pkl', 'wb'))"
   ]
  },
  {
   "cell_type": "code",
   "execution_count": 7,
   "metadata": {
    "colab": {},
    "colab_type": "code",
    "id": "qvD_mDuTP0SO"
   },
   "outputs": [],
   "source": [
    "## PRETRAINED LANGUAGE MODEL\n",
    "\n",
    "\n",
    "# set model parameters\n",
    "em_sz, nh, nl = 400, 1150, 3\n",
    "\n",
    "\n",
    "# load itos and stoi from the pretrained Wikitext language model\n",
    "with open('wt103/itos_wt103.pkl', 'rb') as pickle_file:\n",
    "    itos_wiki = pickle.load(pickle_file)\n",
    "    \n",
    "stoi_wiki = collections.defaultdict(lambda: -1, {v:k for k,v \n",
    "                                              in enumerate(itos_wiki)})\n",
    "\n",
    "lm_wgts_wiki = torch.load('wt103/fwd_wt103.h5', map_location = lambda storage, \n",
    "                  loc: storage)\n",
    "\n",
    "\n"
   ]
  },
  {
   "cell_type": "code",
   "execution_count": 8,
   "metadata": {
    "colab": {},
    "colab_type": "code",
    "id": "KVrEGUqIP0SP"
   },
   "outputs": [],
   "source": [
    "wd   = 1e-7\n",
    "bptt = 70\n",
    "bs   = 2\n",
    "t    = len(np.concatenate(trn_lm))\n",
    "\n",
    "\n",
    "# define optimizer and create data loader \n",
    "opt_fn  = partial(optim.Adam, betas = (0.8, 0.99))\n",
    "trn_dl  = LanguageModelLoader(np.concatenate(trn_lm), bs, bptt)\n",
    "val_dl  = LanguageModelLoader(np.concatenate(val_lm), bs, bptt)\n",
    "\n",
    "# match tokens between the two vocabularies\n",
    "enc_wgts = lm_wgts_wiki['0.encoder.weight'].numpy()\n",
    "row_m    = np.mean(enc_wgts, axis = 0)\n",
    "\n",
    "new_wm = np.zeros((len(itos), em_sz), dtype = np.float32)\n",
    "for i,w in enumerate(itos):\n",
    "    r  = stoi_wiki[w]\n",
    "    new_wm[i] = enc_wgts[r] if r >= 0 else row_m\n",
    "    \n",
    "lm_wgts_wiki['0.encoder.weight']                    = T(new_wm)\n",
    "lm_wgts_wiki['0.encoder_with_dropout.embed.weight'] = T(np.copy(new_wm))\n",
    "lm_wgts_wiki['1.decoder.weight']                    = T(np.copy(new_wm))"
   ]
  },
  {
   "cell_type": "code",
   "execution_count": 9,
   "metadata": {
    "colab": {},
    "colab_type": "code",
    "id": "GRCppTrCP0SR"
   },
   "outputs": [],
   "source": [
    "## CREATE MODEL ARCHITECTURE\n",
    "\n",
    "\n",
    "md = LanguageModelData('', pad_idx = 1, n_tok = len(itos), trn_dl = trn_dl, val_dl = val_dl, bs = bs, \n",
    "                       bptt = bptt)\n",
    "\n",
    "# define droupout parameters and create model architecture\n",
    "drops   = np.array([0.25, 0.1, 0.2, 0.02, 0.15])*0.7\n",
    "learner = md.get_model(opt_fn, em_sz, nh, nl, \n",
    "          dropouti = drops[0], dropout = drops[1], wdrop = drops[2],\n",
    "          dropoute = drops[3], dropouth = drops[4])\n",
    "\n",
    "learner.metrics = [accuracy]\n",
    "learner.freeze_to(-1)"
   ]
  },
  {
   "cell_type": "code",
   "execution_count": 10,
   "metadata": {
    "colab": {
     "base_uri": "https://localhost:8080/",
     "height": 1020
    },
    "colab_type": "code",
    "executionInfo": {
     "elapsed": 25408,
     "status": "ok",
     "timestamp": 1549317047792,
     "user": {
      "displayName": "Michael Schimpke",
      "photoUrl": "",
      "userId": "08866054739853401103"
     },
     "user_tz": -60
    },
    "id": "8IDb-JyHP0SS",
    "outputId": "6aa675c6-d78a-496a-f2d7-f6c514057c8f",
    "scrolled": true
   },
   "outputs": [
    {
     "data": {
      "application/vnd.jupyter.widget-view+json": {
       "model_id": "16c6d25cf88f4b2baee5e074f3a11e5a",
       "version_major": 2,
       "version_minor": 0
      },
      "text/plain": [
       "HBox(children=(IntProgress(value=0, description='Epoch', max=1, style=ProgressStyle(description_width='initial…"
      ]
     },
     "metadata": {},
     "output_type": "display_data"
    },
    {
     "name": "stdout",
     "output_type": "stream",
     "text": [
      "epoch      trn_loss   val_loss   accuracy                                                                              \n",
      "    0      5.059487   4.833335   0.240041  \n",
      "\n"
     ]
    },
    {
     "data": {
      "text/plain": [
       "[array([4.83334]), 0.24004096968701868]"
      ]
     },
     "execution_count": 10,
     "metadata": {},
     "output_type": "execute_result"
    }
   ],
   "source": [
    "# load model weights from pretrained wikipedia model\n",
    "learner.model.load_state_dict(lm_wgts_wiki)\n",
    "\n",
    "\n",
    "# set initial learning rate\n",
    "lr  = 1e-3\n",
    "\n",
    "\n",
    "# fit model with frozen lstm for one epoch\n",
    "learner.fit(lr, 1, wds = wd, use_clr = (32,2), cycle_len = 1) "
   ]
  },
  {
   "cell_type": "code",
   "execution_count": 11,
   "metadata": {
    "colab": {
     "base_uri": "https://localhost:8080/",
     "height": 1020
    },
    "colab_type": "code",
    "executionInfo": {
     "elapsed": 53175,
     "status": "ok",
     "timestamp": 1549317075866,
     "user": {
      "displayName": "Michael Schimpke",
      "photoUrl": "",
      "userId": "08866054739853401103"
     },
     "user_tz": -60
    },
    "id": "hYW-YwXDP0SU",
    "outputId": "08d0fa1f-7eec-4670-ec75-0a570a357358"
   },
   "outputs": [
    {
     "data": {
      "application/vnd.jupyter.widget-view+json": {
       "model_id": "4193f833962a42e2afbcabcab7386f5d",
       "version_major": 2,
       "version_minor": 0
      },
      "text/plain": [
       "HBox(children=(IntProgress(value=0, description='Epoch', max=1, style=ProgressStyle(description_width='initial…"
      ]
     },
     "metadata": {},
     "output_type": "display_data"
    },
    {
     "name": "stdout",
     "output_type": "stream",
     "text": [
      " 78%|██████████████████████████████████████████████████▋              | 27237/34946 [43:26<12:17, 10.45it/s, loss=18.7]"
     ]
    },
    {
     "data": {
      "image/png": "[encoded data removed]",
      "text/plain": [
       "<Figure size 432x288 with 1 Axes>"
      ]
     },
     "metadata": {
      "needs_background": "light"
     },
     "output_type": "display_data"
    },
    {
     "name": "stdout",
     "output_type": "stream",
     "text": [
      "\r",
      " 78%|██████████████████████████████████████████████████▋              | 27237/34946 [43:38<12:17, 10.45it/s, loss=18.7]"
     ]
    }
   ],
   "source": [
    "# save learner for further training\n",
    "learner.save('lm_last_ft')\n",
    "\n",
    "\n",
    "# unfreeze all layers\n",
    "learner.unfreeze()\n",
    "\n",
    "\n",
    "# perform and plot algorithm to find optimal learning rate\n",
    "learner.lr_find(lr/1000)\n",
    "learner.sched.plot()"
   ]
  },
  {
   "cell_type": "code",
   "execution_count": 12,
   "metadata": {
    "colab": {
     "base_uri": "https://localhost:8080/",
     "height": 1020
    },
    "colab_type": "code",
    "executionInfo": {
     "elapsed": 131510,
     "status": "ok",
     "timestamp": 1549317162736,
     "user": {
      "displayName": "Michael Schimpke",
      "photoUrl": "",
      "userId": "08866054739853401103"
     },
     "user_tz": -60
    },
    "id": "wEHupMGlP0SV",
    "outputId": "6ef108ad-7c95-4418-c105-3b922e2c7947",
    "scrolled": true
   },
   "outputs": [
    {
     "data": {
      "application/vnd.jupyter.widget-view+json": {
       "model_id": "a288327033bb4e638cc802aeee81e565",
       "version_major": 2,
       "version_minor": 0
      },
      "text/plain": [
       "HBox(children=(IntProgress(value=0, description='Epoch', max=3, style=ProgressStyle(description_width='initial…"
      ]
     },
     "metadata": {},
     "output_type": "display_data"
    },
    {
     "name": "stdout",
     "output_type": "stream",
     "text": [
      "epoch      trn_loss   val_loss   accuracy                                                                              \n",
      "    0      4.752552   4.593785   0.263481  \n",
      "    1      4.64124    4.500029   0.27396                                                                               \n",
      "    2      4.606143   4.42642    0.281178                                                                              \n"
     ]
    },
    {
     "data": {
      "text/plain": [
       "[array([4.42642]), 0.28117772447185085]"
      ]
     },
     "execution_count": 12,
     "metadata": {},
     "output_type": "execute_result"
    }
   ],
   "source": [
    "learner.load('lm_last_ft')\n",
    "\n",
    "\n",
    "# set discriminative learning rate\n",
    "lr  = 1e-2\n",
    "lrm = 2.6\n",
    "lrs = np.array([lr/(lrm**3), lr/(lrm**2), lr/lrm, lr])\n",
    "\n",
    "\n",
    "# fit model with unfrozen lstm layers until it overfits\n",
    "learner.fit(lrs, 1, wds = wd, use_clr = (20,10), cycle_len = 3)"
   ]
  },
  {
   "cell_type": "code",
   "execution_count": 13,
   "metadata": {
    "colab": {},
    "colab_type": "code",
    "id": "wePEufHBP0SW"
   },
   "outputs": [],
   "source": [
    "# save complete model and encoder\n",
    "learner.save('lm2')\n",
    "learner.save_encoder('lm2_enc')"
   ]
  },
  {
   "cell_type": "code",
   "execution_count": 14,
   "metadata": {
    "colab": {
     "base_uri": "https://localhost:8080/",
     "height": 154
    },
    "colab_type": "code",
    "executionInfo": {
     "elapsed": 111755,
     "status": "ok",
     "timestamp": 1549317181011,
     "user": {
      "displayName": "Michael Schimpke",
      "photoUrl": "",
      "userId": "08866054739853401103"
     },
     "user_tz": -60
    },
    "id": "pcpgZsOuP0SX",
    "outputId": "58396561-7f36-440d-cc95-812a1bbc9d67"
   },
   "outputs": [
    {
     "name": "stdout",
     "output_type": "stream",
     "text": [
      "0\n",
      "1\n",
      "2\n",
      "3\n",
      "4\n",
      "5\n",
      "6\n",
      "7\n",
      "8\n",
      "9\n",
      "0\n",
      "1\n",
      "2\n"
     ]
    }
   ],
   "source": [
    "## DATA PREPARATION FOR CLASSIFIER\n",
    "\n",
    "# tokenize saved training and validation datasets\n",
    "df_trn = pd.read_csv(clas_path/'train.csv', header = None, chunksize = chunksize)\n",
    "df_val = pd.read_csv(clas_path/'test.csv', header = None, chunksize = chunksize)\n",
    "\n",
    "tok_trn, trn_labels = Prep.get_all(df_trn, 1)\n",
    "tok_val, val_labels = Prep.get_all(df_val, 1)\n",
    "\n",
    "\n",
    "(clas_path/'tmp').mkdir(exist_ok = True)\n",
    "np.save(clas_path/'tmp'/'tok_trn.npy', tok_trn)\n",
    "np.save(clas_path/'tmp'/'tok_val.npy', tok_val)\n",
    "np.save(clas_path/'tmp'/'trn_labels.npy', trn_labels)\n",
    "np.save(clas_path/'tmp'/'val_labels.npy', val_labels)\n",
    "tok_trn = np.load(clas_path/'tmp'/'tok_trn.npy')\n",
    "tok_val = np.load(clas_path/'tmp'/'tok_val.npy')"
   ]
  },
  {
   "cell_type": "code",
   "execution_count": 15,
   "metadata": {
    "colab": {},
    "colab_type": "code",
    "id": "BrXwI5T9_Ksh"
   },
   "outputs": [],
   "source": [
    "# load vocabulary from language model\n",
    "itos = pickle.load((lm_path/'itos.pkl').open('rb'))\n",
    "stoi = collections.defaultdict(lambda:0, {v:k for k,v in \n",
    "                                          enumerate(itos)})"
   ]
  },
  {
   "cell_type": "code",
   "execution_count": 16,
   "metadata": {
    "colab": {},
    "colab_type": "code",
    "id": "Za-sXRKcP0SY"
   },
   "outputs": [],
   "source": [
    "# encode tokens\n",
    "trn_clas = np.array([[stoi[o] for o in p] for p in tok_trn])\n",
    "val_clas = np.array([[stoi[o] for o in p] for p in tok_val])\n",
    "np.save(clas_path/'tmp'/'trn_ids.npy', trn_clas)\n",
    "np.save(clas_path/'tmp'/'val_ids.npy', val_clas)"
   ]
  },
  {
   "cell_type": "code",
   "execution_count": 17,
   "metadata": {
    "colab": {},
    "colab_type": "code",
    "id": "RJ6jZ9MtP0SZ"
   },
   "outputs": [],
   "source": [
    "trn_clas   = np.load(clas_path/'tmp'/'trn_ids.npy')\n",
    "val_clas   = np.load(clas_path/'tmp'/'val_ids.npy')\n",
    "trn_labels = np.load(clas_path/'tmp'/'trn_labels.npy')\n",
    "val_labels = np.load(clas_path/'tmp'/'val_labels.npy')"
   ]
  },
  {
   "cell_type": "code",
   "execution_count": 18,
   "metadata": {
    "colab": {},
    "colab_type": "code",
    "id": "IWx05l_vP0Sa"
   },
   "outputs": [],
   "source": [
    "# set hyperparameters\n",
    "bptt, nh   = 70, 1150 \n",
    "em_sz, nl  = 400, 3\n",
    "bs, c      = 2, 3\n",
    "vs         = len(itos)\n",
    "\n",
    "opt_fn = partial(optim.Adam, betas = (0.8, 0.99))"
   ]
  },
  {
   "cell_type": "code",
   "execution_count": 19,
   "metadata": {
    "colab": {},
    "colab_type": "code",
    "id": "ZKnUHfRsP0Sb"
   },
   "outputs": [],
   "source": [
    "## CREATE MODEL ARCHITECTURE\n",
    "\n",
    "import functions as fct\n",
    "\n",
    "# function using sampler and data loader from fastai library\n",
    "md = fct.data_loader('', trn_clas, val_clas, trn_labels, val_labels, bs = bs, pad_idx = 1)\n",
    "\n",
    "\n",
    "# define droupout parameters and create model architecture\n",
    "dps = np.array([0.4, 0.5, 0.05, 0.3, 0.4])*0.7\n",
    "m   = get_rnn_classifer(bptt, 20*70, c, vs, emb_sz = em_sz, n_hid = nh, \n",
    "                        n_layers = nl, pad_token = 1,\n",
    "                        layers   = [em_sz*3, 50, c], drops = [dps[4], 0.1],\n",
    "                        dropouti = dps[0], wdrop = dps[1],        \n",
    "                        dropoute = dps[2], dropouth = dps[3])"
   ]
  },
  {
   "cell_type": "code",
   "execution_count": 20,
   "metadata": {
    "colab": {},
    "colab_type": "code",
    "id": "-KzSi_J5P0Sc"
   },
   "outputs": [],
   "source": [
    "# build rnn classifier model\n",
    "learn         = RNN_Learner(md, TextModel(to_gpu(m)), opt_fn = opt_fn)\n",
    "learn.reg_fn  = partial(seq2seq_reg, alpha = 2, beta = 1)\n",
    "learn.clip    = .25\n",
    "learn.metrics = [accuracy]"
   ]
  },
  {
   "cell_type": "code",
   "execution_count": 21,
   "metadata": {
    "colab": {},
    "colab_type": "code",
    "id": "edNhIpaTP0Se"
   },
   "outputs": [],
   "source": [
    "# set discriminative learning rate\n",
    "lr  = 3e-3\n",
    "lrm = 2.6\n",
    "lrs = np.array([lr/(lrm**4), lr/(lrm**3), lr/(lrm**2), lr/lrm, lr])"
   ]
  },
  {
   "cell_type": "code",
   "execution_count": 22,
   "metadata": {
    "colab": {},
    "colab_type": "code",
    "id": "HGI1ijzOP0Se"
   },
   "outputs": [],
   "source": [
    "# set weight decay and load encoder from language model\n",
    "wd = 1e-7\n",
    "learn.load_encoder('lm2_enc')"
   ]
  },
  {
   "cell_type": "code",
   "execution_count": 23,
   "metadata": {
    "colab": {
     "base_uri": "https://localhost:8080/",
     "height": 1020
    },
    "colab_type": "code",
    "executionInfo": {
     "elapsed": 11624,
     "status": "ok",
     "timestamp": 1549317214738,
     "user": {
      "displayName": "Michael Schimpke",
      "photoUrl": "",
      "userId": "08866054739853401103"
     },
     "user_tz": -60
    },
    "id": "EWduA-iIP0Sf",
    "outputId": "00a6a161-0fcb-4616-e477-91c1f6c46b3e",
    "scrolled": false
   },
   "outputs": [
    {
     "data": {
      "application/vnd.jupyter.widget-view+json": {
       "model_id": "bf7e58a6adc546d591137e56db34211c",
       "version_major": 2,
       "version_minor": 0
      },
      "text/plain": [
       "HBox(children=(IntProgress(value=0, description='Epoch', max=1, style=ProgressStyle(description_width='initial…"
      ]
     },
     "metadata": {},
     "output_type": "display_data"
    },
    {
     "name": "stdout",
     "output_type": "stream",
     "text": [
      " 71%|█████████████████████████████████████████████▋                  | 85718/120000 [29:38<12:32, 45.55it/s, loss=2.28]"
     ]
    },
    {
     "data": {
      "image/png": "[encoded data removed]",
      "text/plain": [
       "<Figure size 432x288 with 1 Axes>"
      ]
     },
     "metadata": {
      "needs_background": "light"
     },
     "output_type": "display_data"
    },
    {
     "name": "stdout",
     "output_type": "stream",
     "text": [
      "\r",
      " 71%|█████████████████████████████████████████████▋                  | 85718/120000 [29:50<12:32, 45.55it/s, loss=2.28]"
     ]
    }
   ],
   "source": [
    "# freeze lstms and relu layer\n",
    "learn.freeze_to(-1)\n",
    "\n",
    "\n",
    "# perform and plot algorithm to find optimal learning rate\n",
    "learn.lr_find(lrs/1000)\n",
    "learn.sched.plot()"
   ]
  },
  {
   "cell_type": "code",
   "execution_count": 24,
   "metadata": {},
   "outputs": [],
   "source": [
    "# readjust discriminative learning rate if necessary\n",
    "lr  = 3e-3\n",
    "lrm = 2.6\n",
    "lrs = np.array([lr/(lrm**4), lr/(lrm**3), lr/(lrm**2), lr/lrm, lr])"
   ]
  },
  {
   "cell_type": "code",
   "execution_count": 25,
   "metadata": {
    "colab": {
     "base_uri": "https://localhost:8080/",
     "height": 1020
    },
    "colab_type": "code",
    "executionInfo": {
     "elapsed": 24538,
     "status": "ok",
     "timestamp": 1549317228288,
     "user": {
      "displayName": "Michael Schimpke",
      "photoUrl": "",
      "userId": "08866054739853401103"
     },
     "user_tz": -60
    },
    "id": "o5IO33nnP0Sg",
    "outputId": "cde51fc5-2ea1-46d9-ba01-bd763624e37e"
   },
   "outputs": [
    {
     "data": {
      "application/vnd.jupyter.widget-view+json": {
       "model_id": "70182a0e24d449a5980a9a6795d7999c",
       "version_major": 2,
       "version_minor": 0
      },
      "text/plain": [
       "HBox(children=(IntProgress(value=0, description='Epoch', max=1, style=ProgressStyle(description_width='initial…"
      ]
     },
     "metadata": {},
     "output_type": "display_data"
    },
    {
     "name": "stdout",
     "output_type": "stream",
     "text": [
      "epoch      trn_loss   val_loss   accuracy                                                                              \n",
      "    0      0.718042   0.561911   0.725528  \n"
     ]
    }
   ],
   "source": [
    "# fit frozen model for one epoch\n",
    "learn.fit(lrs, 1, wds = wd, cycle_len = 1, use_clr = (8,3))\n",
    "learn.save('clas_0')"
   ]
  },
  {
   "cell_type": "code",
   "execution_count": 26,
   "metadata": {
    "colab": {
     "base_uri": "https://localhost:8080/",
     "height": 1020
    },
    "colab_type": "code",
    "executionInfo": {
     "elapsed": 39837,
     "status": "ok",
     "timestamp": 1549317244532,
     "user": {
      "displayName": "Michael Schimpke",
      "photoUrl": "",
      "userId": "08866054739853401103"
     },
     "user_tz": -60
    },
    "id": "1WmZEkFpP0Sh",
    "outputId": "d3b0811e-982d-4cfd-99c1-e79181040e08"
   },
   "outputs": [
    {
     "data": {
      "application/vnd.jupyter.widget-view+json": {
       "model_id": "4f21b64178444ce39c2e46c0454990e9",
       "version_major": 2,
       "version_minor": 0
      },
      "text/plain": [
       "HBox(children=(IntProgress(value=0, description='Epoch', max=1, style=ProgressStyle(description_width='initial…"
      ]
     },
     "metadata": {},
     "output_type": "display_data"
    },
    {
     "name": "stdout",
     "output_type": "stream",
     "text": [
      "epoch      trn_loss   val_loss   accuracy                                                                              \n",
      "    0      0.662689   0.516548   0.753302  \n"
     ]
    }
   ],
   "source": [
    "learn.load('clas_0')\n",
    "\n",
    "\n",
    "# unfreeze relu layer and fit another epoch\n",
    "learn.freeze_to(-2)\n",
    "learn.fit(lrs, 1, wds = wd, cycle_len = 1, use_clr = (8,3))\n",
    "\n",
    "learn.save('clas_1')"
   ]
  },
  {
   "cell_type": "code",
   "execution_count": null,
   "metadata": {
    "colab": {
     "base_uri": "https://localhost:8080/",
     "height": 1020
    },
    "colab_type": "code",
    "executionInfo": {
     "elapsed": 165535,
     "status": "ok",
     "timestamp": 1549320054894,
     "user": {
      "displayName": "Michael Schimpke",
      "photoUrl": "",
      "userId": "08866054739853401103"
     },
     "user_tz": -60
    },
    "id": "z2tS3RtWP0Sh",
    "outputId": "3b539f8e-d03c-4bf0-9163-a337667975ff"
   },
   "outputs": [],
   "source": [
    "learn.load('clas_1')\n",
    "\n",
    "\n",
    "# unfreeze all layers and execute final fit\n",
    "learn.unfreeze()\n",
    "\n",
    "learn.unfreeze()\n",
    "import os\n",
    "os.chdir(r'C:\\Users\\lenovo\\Anaconda3\\fastai\\SIS_ULMFiT-master\\libsvm-3.23\\python')\n",
    "from svm import *\n",
    "from svmutil import *\n",
    "\n",
    "from svm import __all__ as svm_all\n",
    "from svm import scipy, sparse\n",
    "cycle_len = 5\n",
    "prob = svm_problem( trn_labels, trn_clas)\n",
    "param = svm_parameter('-t 2 -c  5.6569 -g 1.0667 -b 1') \n",
    "model = svm_train(prob, param) \n",
    "p_label, p_acc, p_val = svm_predict(trn_labels, trn_clas,model,'-b 1')\n",
    "ACC, MSE, SCC = evaluations(trn_labels, p_label)\n",
    "\n",
    "#learn.fit(lrs, 1, wds = wd, cycle_len = 5, use_clr = (32,10))\n",
    "\n",
    "\n",
    "learn.sched.plot_loss()\n",
    "learn.save('clas_2')"
   ]
  },
  {
   "cell_type": "code",
   "execution_count": 26,
   "metadata": {
    "colab": {},
    "colab_type": "code",
    "id": "c-biurGJ8_oq"
   },
   "outputs": [],
   "source": [
    "# load trained classifier for prediction on other dataset\n",
    "learn.load('clas_2')"
   ]
  },
  {
   "cell_type": "code",
   "execution_count": 27,
   "metadata": {
    "colab": {},
    "colab_type": "code",
    "id": "vtfS3LPB9Aga"
   },
   "outputs": [],
   "source": [
    "# load GOP Debate twitter dataset\n",
    "my_test = pd.read_csv('datasets/gop_debate.csv')\n",
    "\n",
    "\n",
    "y = my_test.sentiment\n",
    "x = my_test.text"
   ]
  },
  {
   "cell_type": "code",
   "execution_count": 28,
   "metadata": {
    "colab": {},
    "colab_type": "code",
    "id": "az18CZux9Adk"
   },
   "outputs": [],
   "source": [
    "test_texts  = np.array(x)\n",
    "test_labels = np.array(y)\n",
    "\n",
    "\n",
    "# create dataframe\n",
    "col_names = ['labels','text']\n",
    "df_test   = pd.DataFrame({'text':test_texts, 'labels':test_labels}, columns=col_names)\n",
    "df_test.to_csv('prediction/test_final.csv', header = False, index = False)"
   ]
  },
  {
   "cell_type": "code",
   "execution_count": 29,
   "metadata": {
    "colab": {
     "base_uri": "https://localhost:8080/",
     "height": 134
    },
    "colab_type": "code",
    "executionInfo": {
     "elapsed": 15871,
     "status": "ok",
     "timestamp": 1549460003243,
     "user": {
      "displayName": "Michael Schimpke",
      "photoUrl": "",
      "userId": "08866054739853401103"
     },
     "user_tz": -60
    },
    "id": "U0upWzO19Aaa",
    "outputId": "c11e6665-f9bb-4e52-b266-89b4128e4398"
   },
   "outputs": [
    {
     "name": "stdout",
     "output_type": "stream",
     "text": [
      "0\n",
      "1\n",
      "2\n"
     ]
    }
   ],
   "source": [
    "chunksize = 5000\n",
    "BOS = 'xbos'\n",
    "df_test = pd.read_csv('prediction/test_final.csv', \n",
    "                      header = None, chunksize = chunksize)\n",
    "\n",
    "#tokenize dataset\n",
    "tok_test, test_labels = Prep.get_all(df_test, 1)"
   ]
  },
  {
   "cell_type": "code",
   "execution_count": 30,
   "metadata": {
    "colab": {
     "base_uri": "https://localhost:8080/",
     "height": 158
    },
    "colab_type": "code",
    "executionInfo": {
     "elapsed": 426,
     "status": "ok",
     "timestamp": 1549460005793,
     "user": {
      "displayName": "Michael Schimpke",
      "photoUrl": "",
      "userId": "08866054739853401103"
     },
     "user_tz": -60
    },
    "id": "v_k7tD-b9AUu",
    "outputId": "b4aaff4f-4df9-4a1c-8b4f-4d174201d4d5"
   },
   "outputs": [
    {
     "data": {
      "text/plain": [
       "array([list([2, 3, 407, 0, 88, 78, 93, 432, 660, 96, 7, 0, 150, 511, 152, 286, 10, 1262, 4, 0]),\n",
       "       list([2, 3, 407, 0, 88, 93, 28, 1019, 7, 419, 0, 152, 286, 4, 163, 48, 225, 27, 3498, 37, 230, 972, 23, 927, 2081, 4, 0, 754]),\n",
       "       list([2, 3, 407, 0, 88, 36, 1203, 27, 0, 0, 18, 7, 0, 33, 875, 23, 1971, 10, 653, 4]), ...,\n",
       "       list([2, 3, 407, 0, 88, 0, 104, 3956, 13, 6, 65, 352, 287, 7, 2717, 13, 18, 39, 61, 6, 243, 6, 82, 39, 4, 0]),\n",
       "       list([2, 3, 407, 0, 88, 0, 0, 0, 276, 30, 248, 127, 28, 32, 64, 14, 0, 0, 4, 78, 127, 453, 2229, 55, 2462, 0, 55, 1273, 520, 754]),\n",
       "       list([2, 3, 407, 0, 88, 0, 1112, 256, 7, 0, 0, 4, 148, 8, 0, 9, 9, 861, 0])], dtype=object)"
      ]
     },
     "execution_count": 30,
     "metadata": {},
     "output_type": "execute_result"
    }
   ],
   "source": [
    "# encode tokens\n",
    "test_clas = np.array([[stoi[o] for o in p] for p in tok_test])\n",
    "test_clas"
   ]
  },
  {
   "cell_type": "code",
   "execution_count": 31,
   "metadata": {
    "colab": {},
    "colab_type": "code",
    "id": "D0c3-FJO9AKd"
   },
   "outputs": [],
   "source": [
    "# arrange dataset for prediction\n",
    "test_ds = TextDataset(test_clas, test_labels)\n",
    "dl_test = DataLoader(test_ds, bs, transpose = True, num_workers = 1, \n",
    "                     pad_idx = 1)"
   ]
  },
  {
   "cell_type": "code",
   "execution_count": 32,
   "metadata": {
    "colab": {
     "base_uri": "https://localhost:8080/",
     "height": 74
    },
    "colab_type": "code",
    "executionInfo": {
     "elapsed": 16570,
     "status": "ok",
     "timestamp": 1549460025158,
     "user": {
      "displayName": "Michael Schimpke",
      "photoUrl": "",
      "userId": "08866054739853401103"
     },
     "user_tz": -60
    },
    "id": "sc_lpqhr9uKE",
    "outputId": "768b8b8c-71da-4b12-e9b7-8307a26933e2"
   },
   "outputs": [
    {
     "name": "stdout",
     "output_type": "stream",
     "text": [
      "Accuracy: 0.4854011967414029\n"
     ]
    }
   ],
   "source": [
    "# prediction\n",
    "pred_test = learn.predict_dl(dl_test)\n",
    "counter   = 0\n",
    "for i in range(0, len(test_labels)): \n",
    "        pred_test2  = pred_test[i]\n",
    "        pred_aslist = pred_test2.tolist()\n",
    "        probs       = fct.softmax(pred_aslist)\n",
    "        idx,        = np.where(probs == np.amax(probs))\n",
    "        if test_labels[i] == idx:\n",
    "                  counter = counter + 1\n",
    "            \n",
    "            \n",
    "# print out accuracy\n",
    "print('Accuracy: ' + str(counter/len(test_labels)))"
   ]
  },
  {
   "cell_type": "code",
   "execution_count": null,
   "metadata": {},
   "outputs": [],
   "source": []
  }
 ],
 "metadata": {
  "accelerator": "GPU",
  "colab": {
   "collapsed_sections": [],
   "name": "Code_komplett.ipynb",
   "provenance": [],
   "version": "0.3.2"
  },
  "kernelspec": {
   "display_name": "Python 3",
   "language": "python",
   "name": "python3"
  },
  "language_info": {
   "codemirror_mode": {
    "name": "ipython",
    "version": 3
   },
   "file_extension": ".py",
   "mimetype": "text/x-python",
   "name": "python",
   "nbconvert_exporter": "python",
   "pygments_lexer": "ipython3",
   "version": "3.6.8"
  }
 },
 "nbformat": 4,
 "nbformat_minor": 1
}
