{
 "cells": [
  {
   "cell_type": "code",
   "execution_count": 1,
   "metadata": {},
   "outputs": [
    {
     "name": "stdout",
     "output_type": "stream",
     "text": [
      "Requirement already satisfied: fastai==0.7.0 in c:\\users\\lenovo\\anaconda3\\envs\\fastai-cpu\\lib\\site-packages (0.7.0)\n",
      "Requirement already satisfied: torch<0.4 in c:\\users\\lenovo\\anaconda3\\envs\\fastai-cpu\\lib\\site-packages (from fastai==0.7.0) (0.3.1.post2)\n",
      "Requirement already satisfied: jupyter in c:\\users\\lenovo\\anaconda3\\envs\\fastai-cpu\\lib\\site-packages (from fastai==0.7.0) (1.0.0)\n",
      "Requirement already satisfied: graphviz in c:\\users\\lenovo\\anaconda3\\envs\\fastai-cpu\\lib\\site-packages (from fastai==0.7.0) (0.10.1)\n",
      "Requirement already satisfied: ipython in c:\\users\\lenovo\\anaconda3\\envs\\fastai-cpu\\lib\\site-packages (from fastai==0.7.0) (7.4.0)\n",
      "Requirement already satisfied: torchvision in c:\\users\\lenovo\\anaconda3\\envs\\fastai-cpu\\lib\\site-packages (from fastai==0.7.0) (0.1.9)\n",
      "Requirement already satisfied: widgetsnbextension in c:\\users\\lenovo\\anaconda3\\envs\\fastai-cpu\\lib\\site-packages (from fastai==0.7.0) (3.4.2)\n",
      "Requirement already satisfied: feather-format in c:\\users\\lenovo\\anaconda3\\envs\\fastai-cpu\\lib\\site-packages (from fastai==0.7.0) (0.4.0)\n",
      "Requirement already satisfied: Jinja2 in c:\\users\\lenovo\\anaconda3\\envs\\fastai-cpu\\lib\\site-packages (from fastai==0.7.0) (2.10.1)\n",
      "Requirement already satisfied: ipykernel in c:\\users\\lenovo\\anaconda3\\envs\\fastai-cpu\\lib\\site-packages (from fastai==0.7.0) (5.1.0)\n",
      "Requirement already satisfied: wcwidth in c:\\users\\lenovo\\anaconda3\\envs\\fastai-cpu\\lib\\site-packages (from fastai==0.7.0) (0.1.7)\n",
      "Requirement already satisfied: traitlets in c:\\users\\lenovo\\anaconda3\\envs\\fastai-cpu\\lib\\site-packages (from fastai==0.7.0) (4.3.2)\n",
      "Requirement already satisfied: tqdm in c:\\users\\lenovo\\anaconda3\\envs\\fastai-cpu\\lib\\site-packages (from fastai==0.7.0) (4.31.1)\n",
      "Requirement already satisfied: seaborn in c:\\users\\lenovo\\anaconda3\\envs\\fastai-cpu\\lib\\site-packages (from fastai==0.7.0) (0.9.0)\n",
      "Requirement already satisfied: matplotlib in c:\\users\\lenovo\\anaconda3\\envs\\fastai-cpu\\lib\\site-packages (from fastai==0.7.0) (2.2.3)\n",
      "Requirement already satisfied: simplegeneric in c:\\users\\lenovo\\anaconda3\\envs\\fastai-cpu\\lib\\site-packages (from fastai==0.7.0) (0.8.1)\n",
      "Requirement already satisfied: cycler in c:\\users\\lenovo\\anaconda3\\envs\\fastai-cpu\\lib\\site-packages (from fastai==0.7.0) (0.10.0)\n",
      "Requirement already satisfied: torchtext in c:\\users\\lenovo\\anaconda3\\envs\\fastai-cpu\\lib\\site-packages (from fastai==0.7.0) (0.2.3)\n",
      "Requirement already satisfied: ipython-genutils in c:\\users\\lenovo\\anaconda3\\envs\\fastai-cpu\\lib\\site-packages (from fastai==0.7.0) (0.2.0)\n",
      "Requirement already satisfied: jedi in c:\\users\\lenovo\\anaconda3\\envs\\fastai-cpu\\lib\\site-packages (from fastai==0.7.0) (0.13.3)\n",
      "Requirement already satisfied: PyYAML in c:\\users\\lenovo\\anaconda3\\envs\\fastai-cpu\\lib\\site-packages (from fastai==0.7.0) (5.1)\n",
      "Requirement already satisfied: pandas in c:\\users\\lenovo\\anaconda3\\envs\\fastai-cpu\\lib\\site-packages (from fastai==0.7.0) (0.24.2)\n",
      "Requirement already satisfied: scipy in c:\\users\\lenovo\\anaconda3\\envs\\fastai-cpu\\lib\\site-packages (from fastai==0.7.0) (1.2.1)\n",
      "Requirement already satisfied: bcolz in c:\\users\\lenovo\\anaconda3\\envs\\fastai-cpu\\lib\\site-packages (from fastai==0.7.0) (1.2.1)\n",
      "Requirement already satisfied: sklearn-pandas in c:\\users\\lenovo\\anaconda3\\envs\\fastai-cpu\\lib\\site-packages (from fastai==0.7.0) (1.8.0)\n",
      "Requirement already satisfied: MarkupSafe in c:\\users\\lenovo\\anaconda3\\envs\\fastai-cpu\\lib\\site-packages (from fastai==0.7.0) (1.1.1)\n",
      "Requirement already satisfied: certifi in c:\\users\\lenovo\\anaconda3\\envs\\fastai-cpu\\lib\\site-packages (from fastai==0.7.0) (2019.3.9)\n",
      "Requirement already satisfied: bleach in c:\\users\\lenovo\\anaconda3\\envs\\fastai-cpu\\lib\\site-packages (from fastai==0.7.0) (3.1.0)\n",
      "Requirement already satisfied: plotnine in c:\\users\\lenovo\\anaconda3\\envs\\fastai-cpu\\lib\\site-packages (from fastai==0.7.0) (0.5.1)\n",
      "Requirement already satisfied: pandas-summary in c:\\users\\lenovo\\anaconda3\\envs\\fastai-cpu\\lib\\site-packages (from fastai==0.7.0) (0.0.6)\n",
      "Requirement already satisfied: jsonschema in c:\\users\\lenovo\\anaconda3\\envs\\fastai-cpu\\lib\\site-packages (from fastai==0.7.0) (3.0.1)\n",
      "Requirement already satisfied: pickleshare in c:\\users\\lenovo\\anaconda3\\envs\\fastai-cpu\\lib\\site-packages (from fastai==0.7.0) (0.7.5)\n",
      "Requirement already satisfied: Pillow in c:\\users\\lenovo\\anaconda3\\envs\\fastai-cpu\\lib\\site-packages (from fastai==0.7.0) (6.0.0)\n",
      "Requirement already satisfied: isoweek in c:\\users\\lenovo\\anaconda3\\envs\\fastai-cpu\\lib\\site-packages (from fastai==0.7.0) (1.3.3)\n",
      "Requirement already satisfied: testpath in c:\\users\\lenovo\\anaconda3\\envs\\fastai-cpu\\lib\\site-packages (from fastai==0.7.0) (0.4.2)\n",
      "Requirement already satisfied: ipywidgets in c:\\users\\lenovo\\anaconda3\\envs\\fastai-cpu\\lib\\site-packages (from fastai==0.7.0) (7.4.2)\n",
      "Requirement already satisfied: python-dateutil in c:\\users\\lenovo\\anaconda3\\envs\\fastai-cpu\\lib\\site-packages (from fastai==0.7.0) (2.8.0)\n",
      "Requirement already satisfied: Pygments in c:\\users\\lenovo\\anaconda3\\envs\\fastai-cpu\\lib\\site-packages (from fastai==0.7.0) (2.3.1)\n",
      "Requirement already satisfied: ptyprocess in c:\\users\\lenovo\\anaconda3\\envs\\fastai-cpu\\lib\\site-packages (from fastai==0.7.0) (0.6.0)\n",
      "Requirement already satisfied: entrypoints in c:\\users\\lenovo\\anaconda3\\envs\\fastai-cpu\\lib\\site-packages (from fastai==0.7.0) (0.3)\n",
      "Requirement already satisfied: numpy in c:\\users\\lenovo\\anaconda3\\envs\\fastai-cpu\\lib\\site-packages (from fastai==0.7.0) (1.15.1)\n",
      "Requirement already satisfied: pyzmq in c:\\users\\lenovo\\anaconda3\\envs\\fastai-cpu\\lib\\site-packages (from fastai==0.7.0) (18.0.0)\n",
      "Requirement already satisfied: webencodings in c:\\users\\lenovo\\anaconda3\\envs\\fastai-cpu\\lib\\site-packages (from fastai==0.7.0) (0.5.1)\n",
      "Requirement already satisfied: pytz in c:\\users\\lenovo\\anaconda3\\envs\\fastai-cpu\\lib\\site-packages (from fastai==0.7.0) (2019.1)\n",
      "Requirement already satisfied: decorator in c:\\users\\lenovo\\anaconda3\\envs\\fastai-cpu\\lib\\site-packages (from fastai==0.7.0) (4.4.0)\n",
      "Requirement already satisfied: pyparsing in c:\\users\\lenovo\\anaconda3\\envs\\fastai-cpu\\lib\\site-packages (from fastai==0.7.0) (2.4.0)\n",
      "Requirement already satisfied: tornado in c:\\users\\lenovo\\anaconda3\\envs\\fastai-cpu\\lib\\site-packages (from fastai==0.7.0) (4.5.3)\n",
      "Requirement already satisfied: opencv-python in c:\\users\\lenovo\\anaconda3\\envs\\fastai-cpu\\lib\\site-packages (from fastai==0.7.0) (4.1.0.25)\n",
      "Requirement already satisfied: html5lib in c:\\users\\lenovo\\anaconda3\\envs\\fastai-cpu\\lib\\site-packages (from fastai==0.7.0) (1.0.1)\n",
      "Requirement already satisfied: qtconsole in c:\\users\\lenovo\\anaconda3\\envs\\fastai-cpu\\lib\\site-packages (from jupyter->fastai==0.7.0) (4.4.3)\n",
      "Requirement already satisfied: notebook in c:\\users\\lenovo\\anaconda3\\envs\\fastai-cpu\\lib\\site-packages (from jupyter->fastai==0.7.0) (5.7.8)\n",
      "Requirement already satisfied: jupyter-console in c:\\users\\lenovo\\anaconda3\\envs\\fastai-cpu\\lib\\site-packages (from jupyter->fastai==0.7.0) (6.0.0)\n",
      "Requirement already satisfied: nbconvert in c:\\users\\lenovo\\anaconda3\\envs\\fastai-cpu\\lib\\site-packages (from jupyter->fastai==0.7.0) (5.4.1)\n",
      "Requirement already satisfied: backcall in c:\\users\\lenovo\\anaconda3\\envs\\fastai-cpu\\lib\\site-packages (from ipython->fastai==0.7.0) (0.1.0)\n",
      "Requirement already satisfied: colorama; sys_platform == \"win32\" in c:\\users\\lenovo\\anaconda3\\envs\\fastai-cpu\\lib\\site-packages (from ipython->fastai==0.7.0) (0.4.1)\n",
      "Requirement already satisfied: setuptools>=18.5 in c:\\users\\lenovo\\anaconda3\\envs\\fastai-cpu\\lib\\site-packages (from ipython->fastai==0.7.0) (41.0.0)\n",
      "Requirement already satisfied: prompt-toolkit<2.1.0,>=2.0.0 in c:\\users\\lenovo\\anaconda3\\envs\\fastai-cpu\\lib\\site-packages (from ipython->fastai==0.7.0) (2.0.9)\n",
      "Requirement already satisfied: six in c:\\users\\lenovo\\anaconda3\\envs\\fastai-cpu\\lib\\site-packages (from torchvision->fastai==0.7.0) (1.12.0)\n",
      "Requirement already satisfied: pyarrow>=0.4.0 in c:\\users\\lenovo\\anaconda3\\envs\\fastai-cpu\\lib\\site-packages (from feather-format->fastai==0.7.0) (0.13.0)\n",
      "Requirement already satisfied: jupyter-client in c:\\users\\lenovo\\anaconda3\\envs\\fastai-cpu\\lib\\site-packages (from ipykernel->fastai==0.7.0) (5.2.4)\n",
      "Requirement already satisfied: kiwisolver>=1.0.1 in c:\\users\\lenovo\\anaconda3\\envs\\fastai-cpu\\lib\\site-packages (from matplotlib->fastai==0.7.0) (1.0.1)\n",
      "Requirement already satisfied: requests in c:\\users\\lenovo\\anaconda3\\envs\\fastai-cpu\\lib\\site-packages (from torchtext->fastai==0.7.0) (2.21.0)\n",
      "Requirement already satisfied: parso>=0.3.0 in c:\\users\\lenovo\\anaconda3\\envs\\fastai-cpu\\lib\\site-packages (from jedi->fastai==0.7.0) (0.4.0)\n",
      "Requirement already satisfied: scikit-learn>=0.15.0 in c:\\users\\lenovo\\anaconda3\\envs\\fastai-cpu\\lib\\site-packages (from sklearn-pandas->fastai==0.7.0) (0.20.3)\n",
      "Requirement already satisfied: patsy>=0.4.1 in c:\\users\\lenovo\\anaconda3\\envs\\fastai-cpu\\lib\\site-packages (from plotnine->fastai==0.7.0) (0.5.1)\n",
      "Requirement already satisfied: statsmodels>=0.8.0 in c:\\users\\lenovo\\anaconda3\\envs\\fastai-cpu\\lib\\site-packages (from plotnine->fastai==0.7.0) (0.9.0)\n",
      "Requirement already satisfied: descartes>=1.1.0 in c:\\users\\lenovo\\anaconda3\\envs\\fastai-cpu\\lib\\site-packages (from plotnine->fastai==0.7.0) (1.1.0)\n",
      "Requirement already satisfied: mizani>=0.5.2 in c:\\users\\lenovo\\anaconda3\\envs\\fastai-cpu\\lib\\site-packages (from plotnine->fastai==0.7.0) (0.5.4)\n",
      "Requirement already satisfied: attrs>=17.4.0 in c:\\users\\lenovo\\anaconda3\\envs\\fastai-cpu\\lib\\site-packages (from jsonschema->fastai==0.7.0) (19.1.0)\n",
      "Requirement already satisfied: pyrsistent>=0.14.0 in c:\\users\\lenovo\\anaconda3\\envs\\fastai-cpu\\lib\\site-packages (from jsonschema->fastai==0.7.0) (0.14.11)\n",
      "Requirement already satisfied: nbformat>=4.2.0 in c:\\users\\lenovo\\anaconda3\\envs\\fastai-cpu\\lib\\site-packages (from ipywidgets->fastai==0.7.0) (4.4.0)\n",
      "Requirement already satisfied: jupyter_core in c:\\users\\lenovo\\anaconda3\\envs\\fastai-cpu\\lib\\site-packages (from qtconsole->jupyter->fastai==0.7.0) (4.4.0)\n",
      "Requirement already satisfied: terminado>=0.8.1 in c:\\users\\lenovo\\anaconda3\\envs\\fastai-cpu\\lib\\site-packages (from notebook->jupyter->fastai==0.7.0) (0.8.2)\n",
      "Requirement already satisfied: prometheus-client in c:\\users\\lenovo\\anaconda3\\envs\\fastai-cpu\\lib\\site-packages (from notebook->jupyter->fastai==0.7.0) (0.6.0)\n",
      "Requirement already satisfied: Send2Trash in c:\\users\\lenovo\\anaconda3\\envs\\fastai-cpu\\lib\\site-packages (from notebook->jupyter->fastai==0.7.0) (1.5.0)\n",
      "Requirement already satisfied: mistune>=0.8.1 in c:\\users\\lenovo\\anaconda3\\envs\\fastai-cpu\\lib\\site-packages (from nbconvert->jupyter->fastai==0.7.0) (0.8.4)\n",
      "Requirement already satisfied: pandocfilters>=1.4.1 in c:\\users\\lenovo\\anaconda3\\envs\\fastai-cpu\\lib\\site-packages (from nbconvert->jupyter->fastai==0.7.0) (1.4.2)\n",
      "Requirement already satisfied: defusedxml in c:\\users\\lenovo\\anaconda3\\envs\\fastai-cpu\\lib\\site-packages (from nbconvert->jupyter->fastai==0.7.0) (0.6.0)\n",
      "Requirement already satisfied: idna<2.9,>=2.5 in c:\\users\\lenovo\\anaconda3\\envs\\fastai-cpu\\lib\\site-packages (from requests->torchtext->fastai==0.7.0) (2.8)\n",
      "Requirement already satisfied: urllib3<1.25,>=1.21.1 in c:\\users\\lenovo\\anaconda3\\envs\\fastai-cpu\\lib\\site-packages (from requests->torchtext->fastai==0.7.0) (1.24.1)\n",
      "Requirement already satisfied: chardet<3.1.0,>=3.0.2 in c:\\users\\lenovo\\anaconda3\\envs\\fastai-cpu\\lib\\site-packages (from requests->torchtext->fastai==0.7.0) (3.0.4)\n",
      "Requirement already satisfied: palettable in c:\\users\\lenovo\\anaconda3\\envs\\fastai-cpu\\lib\\site-packages (from mizani>=0.5.2->plotnine->fastai==0.7.0) (3.1.1)\n"
     ]
    },
    {
     "name": "stdout",
     "output_type": "stream",
     "text": [
      "Requirement already satisfied: torch in c:\\users\\lenovo\\anaconda3\\envs\\fastai-cpu\\lib\\site-packages (0.3.1.post2)\n",
      "Requirement already satisfied: pyyaml in c:\\users\\lenovo\\anaconda3\\envs\\fastai-cpu\\lib\\site-packages (from torch) (5.1)\n",
      "Requirement already satisfied: numpy in c:\\users\\lenovo\\anaconda3\\envs\\fastai-cpu\\lib\\site-packages (from torch) (1.15.1)\n",
      "Requirement already satisfied: spacy in c:\\users\\lenovo\\anaconda3\\envs\\fastai-cpu\\lib\\site-packages (2.0.18)\n",
      "Requirement already satisfied: numpy>=1.15.0 in c:\\users\\lenovo\\anaconda3\\envs\\fastai-cpu\\lib\\site-packages (from spacy) (1.15.1)\n",
      "Requirement already satisfied: murmurhash<1.1.0,>=0.28.0 in c:\\users\\lenovo\\anaconda3\\envs\\fastai-cpu\\lib\\site-packages (from spacy) (1.0.2)\n",
      "Requirement already satisfied: cymem<2.1.0,>=2.0.2 in c:\\users\\lenovo\\anaconda3\\envs\\fastai-cpu\\lib\\site-packages (from spacy) (2.0.2)\n",
      "Requirement already satisfied: preshed<2.1.0,>=2.0.1 in c:\\users\\lenovo\\anaconda3\\envs\\fastai-cpu\\lib\\site-packages (from spacy) (2.0.1)\n",
      "Requirement already satisfied: thinc<6.13.0,>=6.12.1 in c:\\users\\lenovo\\anaconda3\\envs\\fastai-cpu\\lib\\site-packages (from spacy) (6.12.1)\n",
      "Requirement already satisfied: plac<1.0.0,>=0.9.6 in c:\\users\\lenovo\\anaconda3\\envs\\fastai-cpu\\lib\\site-packages (from spacy) (0.9.6)\n",
      "Requirement already satisfied: ujson>=1.35 in c:\\users\\lenovo\\anaconda3\\envs\\fastai-cpu\\lib\\site-packages (from spacy) (1.35)\n",
      "Requirement already satisfied: dill<0.3,>=0.2 in c:\\users\\lenovo\\anaconda3\\envs\\fastai-cpu\\lib\\site-packages (from spacy) (0.2.9)\n",
      "Requirement already satisfied: regex==2018.01.10 in c:\\users\\lenovo\\anaconda3\\envs\\fastai-cpu\\lib\\site-packages (from spacy) (2018.1.10)\n",
      "Requirement already satisfied: requests<3.0.0,>=2.13.0 in c:\\users\\lenovo\\anaconda3\\envs\\fastai-cpu\\lib\\site-packages (from spacy) (2.21.0)\n",
      "Requirement already satisfied: msgpack<0.6.0,>=0.5.6 in c:\\users\\lenovo\\anaconda3\\envs\\fastai-cpu\\lib\\site-packages (from thinc<6.13.0,>=6.12.1->spacy) (0.5.6)\n",
      "Requirement already satisfied: msgpack-numpy<0.4.4 in c:\\users\\lenovo\\anaconda3\\envs\\fastai-cpu\\lib\\site-packages (from thinc<6.13.0,>=6.12.1->spacy) (0.4.3.2)\n",
      "Requirement already satisfied: cytoolz<0.10,>=0.9.0 in c:\\users\\lenovo\\anaconda3\\envs\\fastai-cpu\\lib\\site-packages (from thinc<6.13.0,>=6.12.1->spacy) (0.9.0.1)\n",
      "Requirement already satisfied: wrapt<1.11.0,>=1.10.0 in c:\\users\\lenovo\\anaconda3\\envs\\fastai-cpu\\lib\\site-packages (from thinc<6.13.0,>=6.12.1->spacy) (1.10.11)\n",
      "Requirement already satisfied: tqdm<5.0.0,>=4.10.0 in c:\\users\\lenovo\\anaconda3\\envs\\fastai-cpu\\lib\\site-packages (from thinc<6.13.0,>=6.12.1->spacy) (4.31.1)\n",
      "Requirement already satisfied: six<2.0.0,>=1.10.0 in c:\\users\\lenovo\\anaconda3\\envs\\fastai-cpu\\lib\\site-packages (from thinc<6.13.0,>=6.12.1->spacy) (1.12.0)\n",
      "Requirement already satisfied: chardet<3.1.0,>=3.0.2 in c:\\users\\lenovo\\anaconda3\\envs\\fastai-cpu\\lib\\site-packages (from requests<3.0.0,>=2.13.0->spacy) (3.0.4)\n",
      "Requirement already satisfied: idna<2.9,>=2.5 in c:\\users\\lenovo\\anaconda3\\envs\\fastai-cpu\\lib\\site-packages (from requests<3.0.0,>=2.13.0->spacy) (2.8)\n",
      "Requirement already satisfied: certifi>=2017.4.17 in c:\\users\\lenovo\\anaconda3\\envs\\fastai-cpu\\lib\\site-packages (from requests<3.0.0,>=2.13.0->spacy) (2019.3.9)\n",
      "Requirement already satisfied: urllib3<1.25,>=1.21.1 in c:\\users\\lenovo\\anaconda3\\envs\\fastai-cpu\\lib\\site-packages (from requests<3.0.0,>=2.13.0->spacy) (1.24.1)\n",
      "Requirement already satisfied: toolz>=0.8.0 in c:\\users\\lenovo\\anaconda3\\envs\\fastai-cpu\\lib\\site-packages (from cytoolz<0.10,>=0.9.0->thinc<6.13.0,>=6.12.1->spacy) (0.9.0)\n",
      "Requirement already satisfied: en_core_web_sm==2.0.0 from https://github.com/explosion/spacy-models/releases/download/en_core_web_sm-2.0.0/en_core_web_sm-2.0.0.tar.gz#egg=en_core_web_sm==2.0.0 in c:\\users\\lenovo\\anaconda3\\envs\\fastai-cpu\\lib\\site-packages (2.0.0)\n",
      "symbolic link created for C:\\Users\\lenovo\\Anaconda3\\envs\\fastai-cpu\\lib\\site-packages\\spacy\\data\\en <<===>> C:\\Users\\lenovo\\Anaconda3\\envs\\fastai-cpu\\lib\\site-packages\\en_core_web_sm\n",
      "\n",
      "    Linking successful\n",
      "    C:\\Users\\lenovo\\Anaconda3\\envs\\fastai-cpu\\lib\\site-packages\\en_core_web_sm\n",
      "    -->\n",
      "    C:\\Users\\lenovo\\Anaconda3\\envs\\fastai-cpu\\lib\\site-packages\\spacy\\data\\en\n",
      "\n",
      "    You can now load the model via spacy.load('en')\n",
      "\n"
     ]
    }
   ],
   "source": [
    "import pandas as pd\n",
    "import numpy as np\n",
    "import torch\n",
    "!pip install fastai==0.7.0\n",
    "!pip install torch\n",
    "import fastai\n",
    "from fastai.imports import *\n",
    "from fastai.torch_imports import *\n",
    "from fastai.core import *\n",
    "from fastai.model import fit\n",
    "from fastai.dataset import *\\\n",
    "\n",
    "from sklearn.svm import LinearSVC\n",
    "\n",
    "import torchtext\n",
    "from torchtext import vocab, data\n",
    "from torchtext.datasets import language_modeling\n",
    "\n",
    "from fastai.rnn_reg import *\n",
    "from fastai.rnn_train import *\n",
    "from fastai.nlp import *\n",
    "from fastai.lm_rnn import *\n",
    "from fastai.text import *\n",
    "\n",
    "import dill as pickle\n",
    "!pip install spacy\n",
    "!python -m spacy download en\n",
    "import spacy\n",
    "import html\n",
    "\n",
    "import pickle\n",
    "import collections\n",
    "#!pip install nbimporter\n",
    "import nbimporter"
   ]
  },
  {
   "cell_type": "code",
   "execution_count": 2,
   "metadata": {},
   "outputs": [
    {
     "name": "stdout",
     "output_type": "stream",
     "text": [
      "Importing Jupyter notebook from functions.ipynb\n"
     ]
    }
   ],
   "source": [
    "#Das kommt ganz am Anfang, mit kleinem Text dass wir um den Code schlank zu halten einige Teile in Funktionen auslagern\n",
    "import functions as fct"
   ]
  },
  {
   "cell_type": "code",
   "execution_count": 3,
   "metadata": {},
   "outputs": [],
   "source": [
    "with open('wt103/itos_wt103.pkl', 'rb') as pickle_file:\n",
    "    itos_wiki = pickle.load(pickle_file)\n",
    "    \n",
    "stoi_wiki = collections.defaultdict(lambda:-1, {v:k for k,v \n",
    "                                              in enumerate(itos_wiki)})"
   ]
  },
  {
   "cell_type": "code",
   "execution_count": 4,
   "metadata": {},
   "outputs": [
    {
     "name": "stdout",
     "output_type": "stream",
     "text": [
      "0\n",
      "{'Tokens': ['\\n', 'xbos', 'yesterday', 'i', 'flew', 'with', 'a', 'new', 'airline', 'and', 'it', 'was', 'great'], 'Encoded_Tokens': [288, 303, 13256, 74, 3273, 19, 9, 58, 4745, 6, 29, 12, 284]}\n"
     ]
    }
   ],
   "source": [
    "from functions import Prep\n",
    "\n",
    "sent = 'Yesterday I flew with a new airline and it was great'\n",
    "tok_sent = Prep.tokenize(sent, stoi_wiki)\n",
    "print(tok_sent)"
   ]
  },
  {
   "cell_type": "code",
   "execution_count": 5,
   "metadata": {},
   "outputs": [
    {
     "name": "stdout",
     "output_type": "stream",
     "text": [
      "[[0. 0. 0. ... 0. 0. 0.]\n",
      " [0. 0. 0. ... 0. 0. 0.]\n",
      " [0. 0. 0. ... 0. 0. 0.]\n",
      " ...\n",
      " [0. 0. 0. ... 0. 0. 0.]\n",
      " [0. 0. 0. ... 0. 0. 0.]\n",
      " [0. 0. 0. ... 0. 0. 0.]]\n"
     ]
    },
    {
     "data": {
      "text/plain": [
       "(13, 238462)"
      ]
     },
     "execution_count": 5,
     "metadata": {},
     "output_type": "execute_result"
    }
   ],
   "source": [
    "onehot = Prep.OneHot(tok_sent['Encoded_Tokens'], dimension = len(itos_wiki))\n",
    "print(onehot)\n",
    "onehot.shape"
   ]
  },
  {
   "cell_type": "code",
   "execution_count": 6,
   "metadata": {},
   "outputs": [
    {
     "name": "stdout",
     "output_type": "stream",
     "text": [
      "[[-0.4396  -0.39229 -0.12621 ...  0.12117  0.2433   0.10483]\n",
      " [-0.16437 -0.35955 -0.04734 ...  0.04385  1.08976 -0.09999]\n",
      " [ 0.28111 -0.59665  0.1551  ... -0.10522  0.31061  0.24847]\n",
      " ...\n",
      " [-0.10496  0.75285 -0.14176 ...  0.06853  0.02307  0.0305 ]\n",
      " [ 0.03717  0.86379 -0.01512 ... -0.01448 -0.64909 -0.00839]\n",
      " [ 0.5198   0.04776 -0.30437 ... -0.00925 -0.40007 -0.13416]]\n"
     ]
    },
    {
     "data": {
      "text/plain": [
       "(13, 400)"
      ]
     },
     "execution_count": 6,
     "metadata": {},
     "output_type": "execute_result"
    }
   ],
   "source": [
    "lm_wgts_wiki = torch.load('wt103/fwd_wt103.h5', map_location=lambda storage, \n",
    "                  loc: storage)\n",
    "\n",
    "embedding = np.matmul(onehot, lm_wgts_wiki['0.encoder.weight'])\n",
    "print(embedding)\n",
    "embedding.shape"
   ]
  },
  {
   "cell_type": "code",
   "execution_count": 7,
   "metadata": {},
   "outputs": [
    {
     "name": "stdout",
     "output_type": "stream",
     "text": [
      "[[-0.03709  0.19475 -0.01835 ... -0.00458  0.13194  0.01884]\n",
      " [-0.20202  0.13205 -0.01257 ... -0.01585  0.15082  0.10082]\n",
      " [-0.28976  0.1191  -0.10623 ... -0.10468 -0.30108  0.51579]\n",
      " ...\n",
      " [ 0.05157  0.11202  0.00307 ... -0.39102 -0.0455  -0.00869]\n",
      " [-0.0446   0.05912 -0.02197 ... -0.37411  0.04055 -0.33509]\n",
      " [-0.26005 -0.05814  0.1019  ... -0.48525 -0.17434  0.03801]]\n"
     ]
    },
    {
     "data": {
      "text/plain": [
       "(13, 400)"
      ]
     },
     "execution_count": 7,
     "metadata": {},
     "output_type": "execute_result"
    }
   ],
   "source": [
    "from functions import LSTM\n",
    "lstm  = LSTM(embedding, lm_wgts_wiki, 1150)\n",
    "st_lstm = LSTM.stacked(lstm)\n",
    "print(st_lstm.hidden_state_l2)\n",
    "st_lstm.hidden_state_l2.shape"
   ]
  },
  {
   "cell_type": "code",
   "execution_count": 8,
   "metadata": {
    "scrolled": true
   },
   "outputs": [
    {
     "name": "stdout",
     "output_type": "stream",
     "text": [
      "['\\n xbos yesterday i flew with a new airline and it was great'] \n",
      " [           word  probability\n",
      "880     britain     0.000032\n",
      "14            -     0.000005\n",
      "9             a     0.000002\n",
      "142    american     0.000002\n",
      "490     america     0.000002\n",
      "3             ,     0.000001\n",
      "416     western     0.000001\n",
      "537     success     0.000001\n",
      "333        park     0.000001\n",
      "7006  distances     0.000001]\n"
     ]
    }
   ],
   "source": [
    "from functions import Prediction\n",
    "prediction = Prediction.predict(st_lstm.hidden_state_l2, lm_wgts_wiki, stoi_wiki, tok_sent, 10)\n",
    "print(prediction[0], \"\\n\", prediction[1])"
   ]
  },
  {
   "cell_type": "code",
   "execution_count": 9,
   "metadata": {},
   "outputs": [
    {
     "name": "stdout",
     "output_type": "stream",
     "text": [
      "0\n",
      "[[-0.00976  0.07716 -0.01014 ... -0.00183  0.02177 -0.00235]\n",
      " [-0.04179  0.13705 -0.01995 ... -0.00572  0.01427  0.00801]\n",
      " [-0.00527  0.04493 -0.04583 ... -0.02784 -0.04894  0.04374]\n",
      " ...\n",
      " [-0.06973  0.06097 -0.15617 ... -0.17291 -0.06177 -0.0094 ]\n",
      " [-0.04268  0.05418 -0.20595 ... -0.19399  0.02161 -0.23299]\n",
      " [ 0.0392   0.03127 -0.40149 ... -0.21588 -0.03951  0.02949]]\n"
     ]
    },
    {
     "data": {
      "text/plain": [
       "(13, 400)"
      ]
     },
     "execution_count": 9,
     "metadata": {},
     "output_type": "execute_result"
    }
   ],
   "source": [
    "# loading class Classifier from functions notebook\n",
    "from functions import Classifier\n",
    "\n",
    "# loading the twitter dataset vocabulary\n",
    "with open('lm/itos.pkl', 'rb') as pickle_file:\n",
    "    itos = pickle.load(pickle_file)\n",
    "\n",
    "stoi = collections.defaultdict(lambda:0, \n",
    "                               {v:k for k,v in enumerate(itos)})\n",
    "\n",
    "# loading the training model parameters of the classifier\n",
    "clas_wgts = torch.load('models/clas_2.h5', map_location=lambda storage, \n",
    "                  loc: storage)\n",
    "\n",
    "# prep functions executes tokenization, one-hot encoding, embedding\n",
    "# and lstm forward pass, outputs hidden state tensor of last lstm\n",
    "hidden_state = Classifier.prep('Yesterday I flew with a new airline and it was well', clas_wgts, stoi)\n",
    "print(hidden_state)\n",
    "hidden_state.shape"
   ]
  },
  {
   "cell_type": "code",
   "execution_count": 10,
   "metadata": {},
   "outputs": [
    {
     "name": "stdout",
     "output_type": "stream",
     "text": [
      "[ 0.0392   0.03127 -0.40149 ... -0.15368 -0.01226 -0.01494]\n"
     ]
    },
    {
     "data": {
      "text/plain": [
       "(1200,)"
      ]
     },
     "execution_count": 10,
     "metadata": {},
     "output_type": "execute_result"
    }
   ],
   "source": [
    "# apply concat pooling for last hidden state vector (representing last word of tweet)\n",
    "concat = Classifier.concat_pooling(hidden_state)\n",
    "print(concat)\n",
    "concat.shape"
   ]
  },
  {
   "cell_type": "code",
   "execution_count": 11,
   "metadata": {},
   "outputs": [
    {
     "name": "stdout",
     "output_type": "stream",
     "text": [
      "[[0.93098 0.      0.      0.20191 0.      0.      0.64166 0.      0.05019 0.57686 0.03932 0.68158 0.54921\n",
      "  0.      0.39284 0.46535 0.29358 1.41082 0.08755 0.7847  0.63262 0.13294 0.      0.1568  0.57392 0.79917\n",
      "  0.22868 0.40817 0.19757 0.53938 0.12102 0.      0.      0.      0.37147 0.      0.      0.      0.83357\n",
      "  0.      0.      0.      0.12554 0.      0.417   0.      0.      0.      0.04186 0.25109]]\n"
     ]
    },
    {
     "data": {
      "text/plain": [
       "(1, 50)"
      ]
     },
     "execution_count": 11,
     "metadata": {},
     "output_type": "execute_result"
    }
   ],
   "source": [
    "# process concat pooled hidden state in relu layer\n",
    "relu = Classifier.relu_layer(concat, clas_wgts)\n",
    "print(relu)\n",
    "relu.shape"
   ]
  },
  {
   "cell_type": "code",
   "execution_count": 14,
   "metadata": {},
   "outputs": [
    {
     "name": "stdout",
     "output_type": "stream",
     "text": [
      "{'negative': 0.24262342861838856, 'neutral': 0.047101041484506764, 'positive': 0.7102755298971046}\n"
     ]
    }
   ],
   "source": [
    "# process output from relu layer in softmax layer and print out prediction\n",
    "prediction = Classifier.clas_predict(relu, clas_wgts)\n",
    "print(prediction)"
   ]
  },
  {
   "cell_type": "code",
   "execution_count": null,
   "metadata": {},
   "outputs": [],
   "source": []
  }
 ],
 "metadata": {
  "kernelspec": {
   "display_name": "Python 3",
   "language": "python",
   "name": "python3"
  },
  "language_info": {
   "codemirror_mode": {
    "name": "ipython",
    "version": 3
   },
   "file_extension": ".py",
   "mimetype": "text/x-python",
   "name": "python",
   "nbconvert_exporter": "python",
   "pygments_lexer": "ipython3",
   "version": "3.6.9"
  }
 },
 "nbformat": 4,
 "nbformat_minor": 2
}
