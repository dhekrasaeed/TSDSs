{
 "cells": [
  {
   "cell_type": "code",
   "execution_count": null,
   "metadata": {
    "colab": {
     "base_uri": "https://localhost:8080/",
     "height": 3409
    },
    "colab_type": "code",
    "executionInfo": {
     "elapsed": 181423,
     "status": "ok",
     "timestamp": 1549459462269,
     "user": {
      "displayName": "Michael Schimpke",
      "photoUrl": "",
      "userId": "08866054739853401103"
     },
     "user_tz": -60
    },
    "id": "oU2jqmXTRihq",
    "outputId": "612625a6-7234-4961-d2ee-1529e8526595"
   },
   "outputs": [],
   "source": [
    "import pandas as pd\n",
    "import numpy as np\n",
    "import torch\n",
    "!pip install fastai==0.7.0\n",
    "!pip install torchtext==0.2.3\n",
    "\n",
    "import fastai\n",
    "from fastai.imports import *\n",
    "from fastai.torch_imports import *\n",
    "from fastai.core import *\n",
    "from fastai.model import fit\n",
    "from fastai.dataset import *\n",
    "\n",
    "from sklearn.svm import LinearSVC\n",
    "\n",
    "import torchtext\n",
    "from torchtext import vocab, data\n",
    "from torchtext.datasets import language_modeling\n",
    "\n",
    "from fastai.rnn_reg import *\n",
    "from fastai.rnn_train import *\n",
    "from fastai.nlp import *\n",
    "from fastai.lm_rnn import *\n",
    "from fastai.text import *\n",
    "from sklearn import svm\n",
    "\n",
    "import dill as pickle\n",
    "!pip install spacy\n",
    "!python -m spacy download en\n",
    "import spacy\n",
    "import html\n",
    "\n",
    "import pickle\n",
    "import collections\n",
    "import math\n",
    "!pip install nbimporter\n",
    "import nbimporter"
   ]
  },
  {
   "cell_type": "code",
   "execution_count": null,
   "metadata": {
    "colab": {},
    "colab_type": "code",
    "id": "j999xq9HP0SF"
   },
   "outputs": [],
   "source": [
    "## DATA CLEANING AND TOKENIZATION\n",
    "os.environ['CUDA_LAUNCH_BLOCKING'] = \"1\"\n",
    "\n",
    "# define paths and load data\n",
    "clas_path = Path('clas')\n",
    "lm_path   = Path('lm')\n",
    "my_data   = pd.read_csv('datasets/gop_debate.csv')\n",
    "\n",
    "y = my_data.sentiment\n",
    "x = my_data.text\n",
    "\n",
    "## classification\n",
    "# create training and validation sets\n",
    "trn_texts,val_texts, trn_labels, val_labels = sklearn.model_selection.train_test_split(\n",
    "                                              x, y, test_size = 0.2,\n",
    "                                              random_state = 41)\n",
    "\n",
    "trn_texts  = np.array(trn_texts)\n",
    "trn_labels = np.array(trn_labels)\n",
    "val_texts  = np.array(val_texts)\n",
    "val_labels = np.array(val_labels)\n",
    "\n",
    "\n",
    "# randomize order\n",
    "np.random.seed(42)\n",
    "trn_idx = np.random.permutation(len(trn_texts))\n",
    "val_idx = np.random.permutation(len(val_texts))\n",
    "\n",
    "\n",
    "# reorder texts\n",
    "trn_texts = trn_texts[trn_idx]\n",
    "val_texts = val_texts[val_idx]\n",
    "\n",
    "\n",
    "# reorder labels \n",
    "trn_labels = trn_labels[trn_idx]\n",
    "val_labels = val_labels[val_idx]\n",
    "\n",
    "\n",
    "# create dataframe\n",
    "col_names = ['labels','text']\n",
    "df_trn    = pd.DataFrame({'text':trn_texts, 'labels':trn_labels}, columns = col_names)\n",
    "df_val    = pd.DataFrame({'text':val_texts, 'labels':val_labels}, columns = col_names)\n",
    "\n",
    "\n",
    "# save training and validation dataset\n",
    "classes = ['Positive', 'Negative', 'Neutral']\n",
    "df_trn.to_csv(clas_path/'train.csv', header = False, index = False)\n",
    "df_val.to_csv(clas_path/'test.csv', header = False, index = False)\n",
    "(clas_path/'classes.txt').open('w').writelines(f'{o}\\n' for o in classes)\n",
    "\n",
    "\n",
    "## language model\n",
    "# create training and validation sets\n",
    "trn_texts, val_texts = sklearn.model_selection.train_test_split(\n",
    "                     np.concatenate([trn_texts,val_texts]), test_size = 0.1,\n",
    "                     random_state = 43)\n",
    "\n",
    "\n",
    "# saving training and validation dataset\n",
    "df_trn = pd.DataFrame({'text':trn_texts, 'labels':\n",
    "                       [0]*len(trn_texts)}, columns = col_names)\n",
    "df_val = pd.DataFrame({'text':val_texts, 'labels':\n",
    "                       [0]*len(val_texts)}, columns = col_names)\n",
    "\n",
    "df_trn.to_csv(lm_path/'train.csv', header = False, index = False)\n",
    "df_val.to_csv(lm_path/'test.csv', header = False, index = False)"
   ]
  },
  {
   "cell_type": "code",
   "execution_count": null,
   "metadata": {
    "colab": {
     "base_uri": "https://localhost:8080/",
     "height": 174
    },
    "colab_type": "code",
    "executionInfo": {
     "elapsed": 16839,
     "status": "ok",
     "timestamp": 1549316992073,
     "user": {
      "displayName": "Michael Schimpke",
      "photoUrl": "",
      "userId": "08866054739853401103"
     },
     "user_tz": -60
    },
    "id": "HlWY9XWqP0SJ",
    "outputId": "cb16ad4d-bf39-4c6b-9428-ba1c4676bcda"
   },
   "outputs": [],
   "source": [
    "from functions import Prep\n",
    "\n",
    "# tokenization\n",
    "chunksize = 5000\n",
    "BOS       = 'xbos'  # beginning-of-sentence tag\n",
    "df_trn    = pd.read_csv(lm_path/'train.csv', header = None, chunksize = chunksize)\n",
    "df_val    = pd.read_csv(lm_path/'test.csv', header = None, chunksize = chunksize)\n",
    "\n",
    "tok_trn, trn_labels = Prep.get_all(df_trn, 1)\n",
    "tok_val, val_labels = Prep.get_all(df_val, 1)\n",
    "\n",
    "# save tokenization\n",
    "np.save(lm_path/'tok_trn.npy', tok_trn)\n",
    "np.save(lm_path/'tok_val.npy', tok_val)"
   ]
  },
  {
   "cell_type": "code",
   "execution_count": 4,
   "metadata": {
    "colab": {},
    "colab_type": "code",
    "id": "qx90RCydP0SM"
   },
   "outputs": [],
   "source": [
    "# limit vocabulary\n",
    "max_vocab = 60000\n",
    "min_freq  = 2\n",
    "\n",
    "freq = Counter(p for o in tok_trn for p in o)\n",
    "\n",
    "\n",
    "# create translation from integer to string and string to integer\n",
    "itos = [o for o,c in freq.most_common(max_vocab) if c > min_freq]\n",
    "itos.insert(0, '_unk_')\n",
    "itos.insert(1, '_pad_')\n",
    "\n",
    "stoi = collections.defaultdict(lambda:0, \n",
    "                               {v:k for k,v in enumerate(itos)})\n",
    "\n",
    "\n",
    "# tweets expressed as integers\n",
    "trn_lm = np.array([[stoi[o] for o in p] for p in tok_trn])\n",
    "val_lm = np.array([[stoi[o] for o in p] for p in tok_val])\n",
    "\n",
    "\n",
    "# save dictionary\n",
    "np.save(lm_path/'trn_ids.npy', trn_lm)\n",
    "np.save(lm_path/'val_ids.npy', val_lm)\n",
    "pickle.dump(itos, open(lm_path/'itos.pkl', 'wb'))"
   ]
  },
  {
   "cell_type": "code",
   "execution_count": 5,
   "metadata": {
    "colab": {},
    "colab_type": "code",
    "id": "qvD_mDuTP0SO"
   },
   "outputs": [],
   "source": [
    "## PRETRAINED LANGUAGE MODEL\n",
    "\n",
    "\n",
    "# set model parameters\n",
    "em_sz, nh, nl = 400, 1150, 3\n",
    "\n",
    "\n",
    "# load itos and stoi from the pretrained Wikitext language model\n",
    "with open('wt103/itos_wt103.pkl', 'rb') as pickle_file:\n",
    "    itos_wiki = pickle.load(pickle_file)\n",
    "    \n",
    "stoi_wiki = collections.defaultdict(lambda: -1, {v:k for k,v \n",
    "                                              in enumerate(itos_wiki)})\n",
    "\n",
    "lm_wgts_wiki = torch.load('wt103/fwd_wt103.h5', map_location = lambda storage, \n",
    "                  loc: storage)\n",
    "\n",
    "\n"
   ]
  },
  {
   "cell_type": "code",
   "execution_count": 11,
   "metadata": {
    "colab": {},
    "colab_type": "code",
    "id": "KVrEGUqIP0SP"
   },
   "outputs": [
    {
     "ename": "RuntimeError",
     "evalue": "cuda runtime error (30) : unknown error at C:\\Anaconda2\\conda-bld\\pytorch_1519496000060\\work\\torch\\lib\\THC\\THCGeneral.c:120",
     "output_type": "error",
     "traceback": [
      "\u001b[1;31m---------------------------------------------------------------------------\u001b[0m",
      "\u001b[1;31mRuntimeError\u001b[0m                              Traceback (most recent call last)",
      "\u001b[1;32m<ipython-input-11-4737ba512b1e>\u001b[0m in \u001b[0;36m<module>\u001b[1;34m\u001b[0m\n\u001b[0;32m      7\u001b[0m \u001b[1;31m# define optimizer and create data loader\u001b[0m\u001b[1;33m\u001b[0m\u001b[1;33m\u001b[0m\u001b[1;33m\u001b[0m\u001b[0m\n\u001b[0;32m      8\u001b[0m \u001b[0mopt_fn\u001b[0m  \u001b[1;33m=\u001b[0m \u001b[0mpartial\u001b[0m\u001b[1;33m(\u001b[0m\u001b[0moptim\u001b[0m\u001b[1;33m.\u001b[0m\u001b[0mAdam\u001b[0m\u001b[1;33m,\u001b[0m \u001b[0mbetas\u001b[0m \u001b[1;33m=\u001b[0m \u001b[1;33m(\u001b[0m\u001b[1;36m0.8\u001b[0m\u001b[1;33m,\u001b[0m \u001b[1;36m0.99\u001b[0m\u001b[1;33m)\u001b[0m\u001b[1;33m)\u001b[0m\u001b[1;33m\u001b[0m\u001b[1;33m\u001b[0m\u001b[0m\n\u001b[1;32m----> 9\u001b[1;33m \u001b[0mtrn_dl\u001b[0m  \u001b[1;33m=\u001b[0m \u001b[0mLanguageModelLoader\u001b[0m\u001b[1;33m(\u001b[0m\u001b[0mnp\u001b[0m\u001b[1;33m.\u001b[0m\u001b[0mconcatenate\u001b[0m\u001b[1;33m(\u001b[0m\u001b[0mtrn_lm\u001b[0m\u001b[1;33m)\u001b[0m\u001b[1;33m,\u001b[0m \u001b[0mbs\u001b[0m\u001b[1;33m,\u001b[0m \u001b[0mbptt\u001b[0m\u001b[1;33m)\u001b[0m\u001b[1;33m\u001b[0m\u001b[1;33m\u001b[0m\u001b[0m\n\u001b[0m\u001b[0;32m     10\u001b[0m \u001b[0mval_dl\u001b[0m  \u001b[1;33m=\u001b[0m \u001b[0mLanguageModelLoader\u001b[0m\u001b[1;33m(\u001b[0m\u001b[0mnp\u001b[0m\u001b[1;33m.\u001b[0m\u001b[0mconcatenate\u001b[0m\u001b[1;33m(\u001b[0m\u001b[0mval_lm\u001b[0m\u001b[1;33m)\u001b[0m\u001b[1;33m,\u001b[0m \u001b[0mbs\u001b[0m\u001b[1;33m,\u001b[0m \u001b[0mbptt\u001b[0m\u001b[1;33m)\u001b[0m\u001b[1;33m\u001b[0m\u001b[1;33m\u001b[0m\u001b[0m\n\u001b[0;32m     11\u001b[0m \u001b[1;33m\u001b[0m\u001b[0m\n",
      "\u001b[1;32m~\\Anaconda3\\envs\\fastai-cpu\\lib\\site-packages\\fastai\\text.py\u001b[0m in \u001b[0;36m__init__\u001b[1;34m(self, nums, bs, bptt, backwards)\u001b[0m\n\u001b[0;32m    155\u001b[0m     \u001b[1;32mdef\u001b[0m \u001b[0m__init__\u001b[0m\u001b[1;33m(\u001b[0m\u001b[0mself\u001b[0m\u001b[1;33m,\u001b[0m \u001b[0mnums\u001b[0m\u001b[1;33m,\u001b[0m \u001b[0mbs\u001b[0m\u001b[1;33m,\u001b[0m \u001b[0mbptt\u001b[0m\u001b[1;33m,\u001b[0m \u001b[0mbackwards\u001b[0m\u001b[1;33m=\u001b[0m\u001b[1;32mFalse\u001b[0m\u001b[1;33m)\u001b[0m\u001b[1;33m:\u001b[0m\u001b[1;33m\u001b[0m\u001b[1;33m\u001b[0m\u001b[0m\n\u001b[0;32m    156\u001b[0m         \u001b[0mself\u001b[0m\u001b[1;33m.\u001b[0m\u001b[0mbs\u001b[0m\u001b[1;33m,\u001b[0m\u001b[0mself\u001b[0m\u001b[1;33m.\u001b[0m\u001b[0mbptt\u001b[0m\u001b[1;33m,\u001b[0m\u001b[0mself\u001b[0m\u001b[1;33m.\u001b[0m\u001b[0mbackwards\u001b[0m \u001b[1;33m=\u001b[0m \u001b[0mbs\u001b[0m\u001b[1;33m,\u001b[0m\u001b[0mbptt\u001b[0m\u001b[1;33m,\u001b[0m\u001b[0mbackwards\u001b[0m\u001b[1;33m\u001b[0m\u001b[1;33m\u001b[0m\u001b[0m\n\u001b[1;32m--> 157\u001b[1;33m         \u001b[0mself\u001b[0m\u001b[1;33m.\u001b[0m\u001b[0mdata\u001b[0m \u001b[1;33m=\u001b[0m \u001b[0mself\u001b[0m\u001b[1;33m.\u001b[0m\u001b[0mbatchify\u001b[0m\u001b[1;33m(\u001b[0m\u001b[0mnums\u001b[0m\u001b[1;33m)\u001b[0m\u001b[1;33m\u001b[0m\u001b[1;33m\u001b[0m\u001b[0m\n\u001b[0m\u001b[0;32m    158\u001b[0m         \u001b[0mself\u001b[0m\u001b[1;33m.\u001b[0m\u001b[0mi\u001b[0m\u001b[1;33m,\u001b[0m\u001b[0mself\u001b[0m\u001b[1;33m.\u001b[0m\u001b[0miter\u001b[0m \u001b[1;33m=\u001b[0m \u001b[1;36m0\u001b[0m\u001b[1;33m,\u001b[0m\u001b[1;36m0\u001b[0m\u001b[1;33m\u001b[0m\u001b[1;33m\u001b[0m\u001b[0m\n\u001b[0;32m    159\u001b[0m         \u001b[0mself\u001b[0m\u001b[1;33m.\u001b[0m\u001b[0mn\u001b[0m \u001b[1;33m=\u001b[0m \u001b[0mlen\u001b[0m\u001b[1;33m(\u001b[0m\u001b[0mself\u001b[0m\u001b[1;33m.\u001b[0m\u001b[0mdata\u001b[0m\u001b[1;33m)\u001b[0m\u001b[1;33m\u001b[0m\u001b[1;33m\u001b[0m\u001b[0m\n",
      "\u001b[1;32m~\\Anaconda3\\envs\\fastai-cpu\\lib\\site-packages\\fastai\\text.py\u001b[0m in \u001b[0;36mbatchify\u001b[1;34m(self, data)\u001b[0m\n\u001b[0;32m    179\u001b[0m         \u001b[0mdata\u001b[0m \u001b[1;33m=\u001b[0m \u001b[0mdata\u001b[0m\u001b[1;33m.\u001b[0m\u001b[0mreshape\u001b[0m\u001b[1;33m(\u001b[0m\u001b[0mself\u001b[0m\u001b[1;33m.\u001b[0m\u001b[0mbs\u001b[0m\u001b[1;33m,\u001b[0m \u001b[1;33m-\u001b[0m\u001b[1;36m1\u001b[0m\u001b[1;33m)\u001b[0m\u001b[1;33m.\u001b[0m\u001b[0mT\u001b[0m\u001b[1;33m\u001b[0m\u001b[1;33m\u001b[0m\u001b[0m\n\u001b[0;32m    180\u001b[0m         \u001b[1;32mif\u001b[0m \u001b[0mself\u001b[0m\u001b[1;33m.\u001b[0m\u001b[0mbackwards\u001b[0m\u001b[1;33m:\u001b[0m \u001b[0mdata\u001b[0m\u001b[1;33m=\u001b[0m\u001b[0mdata\u001b[0m\u001b[1;33m[\u001b[0m\u001b[1;33m:\u001b[0m\u001b[1;33m:\u001b[0m\u001b[1;33m-\u001b[0m\u001b[1;36m1\u001b[0m\u001b[1;33m]\u001b[0m\u001b[1;33m\u001b[0m\u001b[1;33m\u001b[0m\u001b[0m\n\u001b[1;32m--> 181\u001b[1;33m         \u001b[1;32mreturn\u001b[0m \u001b[0mT\u001b[0m\u001b[1;33m(\u001b[0m\u001b[0mdata\u001b[0m\u001b[1;33m)\u001b[0m\u001b[1;33m\u001b[0m\u001b[1;33m\u001b[0m\u001b[0m\n\u001b[0m\u001b[0;32m    182\u001b[0m \u001b[1;33m\u001b[0m\u001b[0m\n\u001b[0;32m    183\u001b[0m     \u001b[1;32mdef\u001b[0m \u001b[0mget_batch\u001b[0m\u001b[1;33m(\u001b[0m\u001b[0mself\u001b[0m\u001b[1;33m,\u001b[0m \u001b[0mi\u001b[0m\u001b[1;33m,\u001b[0m \u001b[0mseq_len\u001b[0m\u001b[1;33m)\u001b[0m\u001b[1;33m:\u001b[0m\u001b[1;33m\u001b[0m\u001b[1;33m\u001b[0m\u001b[0m\n",
      "\u001b[1;32m~\\Anaconda3\\envs\\fastai-cpu\\lib\\site-packages\\fastai\\core.py\u001b[0m in \u001b[0;36mT\u001b[1;34m(a, half, cuda)\u001b[0m\n\u001b[0;32m     29\u001b[0m             \u001b[0ma\u001b[0m \u001b[1;33m=\u001b[0m \u001b[0mtorch\u001b[0m\u001b[1;33m.\u001b[0m\u001b[0mcuda\u001b[0m\u001b[1;33m.\u001b[0m\u001b[0mHalfTensor\u001b[0m\u001b[1;33m(\u001b[0m\u001b[0ma\u001b[0m\u001b[1;33m)\u001b[0m \u001b[1;32mif\u001b[0m \u001b[0mhalf\u001b[0m \u001b[1;32melse\u001b[0m \u001b[0mtorch\u001b[0m\u001b[1;33m.\u001b[0m\u001b[0mFloatTensor\u001b[0m\u001b[1;33m(\u001b[0m\u001b[0ma\u001b[0m\u001b[1;33m)\u001b[0m\u001b[1;33m\u001b[0m\u001b[1;33m\u001b[0m\u001b[0m\n\u001b[0;32m     30\u001b[0m         \u001b[1;32melse\u001b[0m\u001b[1;33m:\u001b[0m \u001b[1;32mraise\u001b[0m \u001b[0mNotImplementedError\u001b[0m\u001b[1;33m(\u001b[0m\u001b[0ma\u001b[0m\u001b[1;33m.\u001b[0m\u001b[0mdtype\u001b[0m\u001b[1;33m)\u001b[0m\u001b[1;33m\u001b[0m\u001b[1;33m\u001b[0m\u001b[0m\n\u001b[1;32m---> 31\u001b[1;33m     \u001b[1;32mif\u001b[0m \u001b[0mcuda\u001b[0m\u001b[1;33m:\u001b[0m \u001b[0ma\u001b[0m \u001b[1;33m=\u001b[0m \u001b[0mto_gpu\u001b[0m\u001b[1;33m(\u001b[0m\u001b[0ma\u001b[0m\u001b[1;33m,\u001b[0m \u001b[0masync\u001b[0m\u001b[1;33m=\u001b[0m\u001b[1;32mTrue\u001b[0m\u001b[1;33m)\u001b[0m\u001b[1;33m\u001b[0m\u001b[1;33m\u001b[0m\u001b[0m\n\u001b[0m\u001b[0;32m     32\u001b[0m     \u001b[1;32mreturn\u001b[0m \u001b[0ma\u001b[0m\u001b[1;33m\u001b[0m\u001b[1;33m\u001b[0m\u001b[0m\n\u001b[0;32m     33\u001b[0m \u001b[1;33m\u001b[0m\u001b[0m\n",
      "\u001b[1;32m~\\Anaconda3\\envs\\fastai-cpu\\lib\\site-packages\\fastai\\core.py\u001b[0m in \u001b[0;36mto_gpu\u001b[1;34m(x, *args, **kwargs)\u001b[0m\n\u001b[0;32m     65\u001b[0m \u001b[1;32mdef\u001b[0m \u001b[0mto_gpu\u001b[0m\u001b[1;33m(\u001b[0m\u001b[0mx\u001b[0m\u001b[1;33m,\u001b[0m \u001b[1;33m*\u001b[0m\u001b[0margs\u001b[0m\u001b[1;33m,\u001b[0m \u001b[1;33m**\u001b[0m\u001b[0mkwargs\u001b[0m\u001b[1;33m)\u001b[0m\u001b[1;33m:\u001b[0m\u001b[1;33m\u001b[0m\u001b[1;33m\u001b[0m\u001b[0m\n\u001b[0;32m     66\u001b[0m     \u001b[1;34m'''puts pytorch variable to gpu, if cuda is avaialble and USE_GPU is set to true. '''\u001b[0m\u001b[1;33m\u001b[0m\u001b[1;33m\u001b[0m\u001b[0m\n\u001b[1;32m---> 67\u001b[1;33m     \u001b[1;32mreturn\u001b[0m \u001b[0mx\u001b[0m\u001b[1;33m.\u001b[0m\u001b[0mcuda\u001b[0m\u001b[1;33m(\u001b[0m\u001b[1;33m*\u001b[0m\u001b[0margs\u001b[0m\u001b[1;33m,\u001b[0m \u001b[1;33m**\u001b[0m\u001b[0mkwargs\u001b[0m\u001b[1;33m)\u001b[0m \u001b[1;32mif\u001b[0m \u001b[0mUSE_GPU\u001b[0m \u001b[1;32melse\u001b[0m \u001b[0mx\u001b[0m\u001b[1;33m\u001b[0m\u001b[1;33m\u001b[0m\u001b[0m\n\u001b[0m\u001b[0;32m     68\u001b[0m \u001b[1;33m\u001b[0m\u001b[0m\n\u001b[0;32m     69\u001b[0m \u001b[1;32mdef\u001b[0m \u001b[0mnoop\u001b[0m\u001b[1;33m(\u001b[0m\u001b[1;33m*\u001b[0m\u001b[0margs\u001b[0m\u001b[1;33m,\u001b[0m \u001b[1;33m**\u001b[0m\u001b[0mkwargs\u001b[0m\u001b[1;33m)\u001b[0m\u001b[1;33m:\u001b[0m \u001b[1;32mreturn\u001b[0m\u001b[1;33m\u001b[0m\u001b[1;33m\u001b[0m\u001b[0m\n",
      "\u001b[1;32m~\\Anaconda3\\envs\\fastai-cpu\\lib\\site-packages\\torch\\_utils.py\u001b[0m in \u001b[0;36m_cuda\u001b[1;34m(self, device, async)\u001b[0m\n\u001b[0;32m     67\u001b[0m         \u001b[1;32melse\u001b[0m\u001b[1;33m:\u001b[0m\u001b[1;33m\u001b[0m\u001b[1;33m\u001b[0m\u001b[0m\n\u001b[0;32m     68\u001b[0m             \u001b[0mnew_type\u001b[0m \u001b[1;33m=\u001b[0m \u001b[0mgetattr\u001b[0m\u001b[1;33m(\u001b[0m\u001b[0mtorch\u001b[0m\u001b[1;33m.\u001b[0m\u001b[0mcuda\u001b[0m\u001b[1;33m,\u001b[0m \u001b[0mself\u001b[0m\u001b[1;33m.\u001b[0m\u001b[0m__class__\u001b[0m\u001b[1;33m.\u001b[0m\u001b[0m__name__\u001b[0m\u001b[1;33m)\u001b[0m\u001b[1;33m\u001b[0m\u001b[1;33m\u001b[0m\u001b[0m\n\u001b[1;32m---> 69\u001b[1;33m             \u001b[1;32mreturn\u001b[0m \u001b[0mnew_type\u001b[0m\u001b[1;33m(\u001b[0m\u001b[0mself\u001b[0m\u001b[1;33m.\u001b[0m\u001b[0msize\u001b[0m\u001b[1;33m(\u001b[0m\u001b[1;33m)\u001b[0m\u001b[1;33m)\u001b[0m\u001b[1;33m.\u001b[0m\u001b[0mcopy_\u001b[0m\u001b[1;33m(\u001b[0m\u001b[0mself\u001b[0m\u001b[1;33m,\u001b[0m \u001b[0masync\u001b[0m\u001b[1;33m)\u001b[0m\u001b[1;33m\u001b[0m\u001b[1;33m\u001b[0m\u001b[0m\n\u001b[0m\u001b[0;32m     70\u001b[0m \u001b[1;33m\u001b[0m\u001b[0m\n\u001b[0;32m     71\u001b[0m \u001b[1;33m\u001b[0m\u001b[0m\n",
      "\u001b[1;32m~\\Anaconda3\\envs\\fastai-cpu\\lib\\site-packages\\torch\\cuda\\__init__.py\u001b[0m in \u001b[0;36m_lazy_new\u001b[1;34m(cls, *args, **kwargs)\u001b[0m\n\u001b[0;32m    401\u001b[0m \u001b[1;33m@\u001b[0m\u001b[0mstaticmethod\u001b[0m\u001b[1;33m\u001b[0m\u001b[1;33m\u001b[0m\u001b[0m\n\u001b[0;32m    402\u001b[0m \u001b[1;32mdef\u001b[0m \u001b[0m_lazy_new\u001b[0m\u001b[1;33m(\u001b[0m\u001b[0mcls\u001b[0m\u001b[1;33m,\u001b[0m \u001b[1;33m*\u001b[0m\u001b[0margs\u001b[0m\u001b[1;33m,\u001b[0m \u001b[1;33m**\u001b[0m\u001b[0mkwargs\u001b[0m\u001b[1;33m)\u001b[0m\u001b[1;33m:\u001b[0m\u001b[1;33m\u001b[0m\u001b[1;33m\u001b[0m\u001b[0m\n\u001b[1;32m--> 403\u001b[1;33m     \u001b[0m_lazy_init\u001b[0m\u001b[1;33m(\u001b[0m\u001b[1;33m)\u001b[0m\u001b[1;33m\u001b[0m\u001b[1;33m\u001b[0m\u001b[0m\n\u001b[0m\u001b[0;32m    404\u001b[0m     \u001b[1;31m# We need this method only for lazy init, so we can remove it\u001b[0m\u001b[1;33m\u001b[0m\u001b[1;33m\u001b[0m\u001b[1;33m\u001b[0m\u001b[0m\n\u001b[0;32m    405\u001b[0m     \u001b[1;32mdel\u001b[0m \u001b[0m_CudaBase\u001b[0m\u001b[1;33m.\u001b[0m\u001b[0m__new__\u001b[0m\u001b[1;33m\u001b[0m\u001b[1;33m\u001b[0m\u001b[0m\n",
      "\u001b[1;32m~\\Anaconda3\\envs\\fastai-cpu\\lib\\site-packages\\torch\\cuda\\__init__.py\u001b[0m in \u001b[0;36m_lazy_init\u001b[1;34m()\u001b[0m\n\u001b[0;32m    159\u001b[0m             \"Cannot re-initialize CUDA in forked subprocess. \" + msg)\n\u001b[0;32m    160\u001b[0m     \u001b[0m_check_driver\u001b[0m\u001b[1;33m(\u001b[0m\u001b[1;33m)\u001b[0m\u001b[1;33m\u001b[0m\u001b[1;33m\u001b[0m\u001b[0m\n\u001b[1;32m--> 161\u001b[1;33m     \u001b[0mtorch\u001b[0m\u001b[1;33m.\u001b[0m\u001b[0m_C\u001b[0m\u001b[1;33m.\u001b[0m\u001b[0m_cuda_init\u001b[0m\u001b[1;33m(\u001b[0m\u001b[1;33m)\u001b[0m\u001b[1;33m\u001b[0m\u001b[1;33m\u001b[0m\u001b[0m\n\u001b[0m\u001b[0;32m    162\u001b[0m     \u001b[0mtorch\u001b[0m\u001b[1;33m.\u001b[0m\u001b[0m_C\u001b[0m\u001b[1;33m.\u001b[0m\u001b[0m_cuda_sparse_init\u001b[0m\u001b[1;33m(\u001b[0m\u001b[1;33m)\u001b[0m\u001b[1;33m\u001b[0m\u001b[1;33m\u001b[0m\u001b[0m\n\u001b[0;32m    163\u001b[0m     \u001b[0m_cudart\u001b[0m \u001b[1;33m=\u001b[0m \u001b[0m_load_cudart\u001b[0m\u001b[1;33m(\u001b[0m\u001b[1;33m)\u001b[0m\u001b[1;33m\u001b[0m\u001b[1;33m\u001b[0m\u001b[0m\n",
      "\u001b[1;31mRuntimeError\u001b[0m: cuda runtime error (30) : unknown error at C:\\Anaconda2\\conda-bld\\pytorch_1519496000060\\work\\torch\\lib\\THC\\THCGeneral.c:120"
     ]
    }
   ],
   "source": [
    "wd   = 1e-7\n",
    "bptt = 70\n",
    "bs   = 4\n",
    "t    = len(np.concatenate(trn_lm))\n",
    "\n",
    "\n",
    "# define optimizer and create data loader \n",
    "opt_fn  = partial(optim.Adam, betas = (0.8, 0.99))\n",
    "trn_dl  = LanguageModelLoader(np.concatenate(trn_lm), bs, bptt)\n",
    "val_dl  = LanguageModelLoader(np.concatenate(val_lm), bs, bptt)\n",
    "\n",
    "# match tokens between the two vocabularies\n",
    "enc_wgts = lm_wgts_wiki['0.encoder.weight'].numpy()\n",
    "row_m    = np.mean(enc_wgts, axis = 0)\n",
    "\n",
    "new_wm = np.zeros((len(itos), em_sz), dtype = np.float32)\n",
    "for i,w in enumerate(itos):\n",
    "    r  = stoi_wiki[w]\n",
    "    new_wm[i] = enc_wgts[r] if r >= 0 else row_m\n",
    "    \n",
    "lm_wgts_wiki['0.encoder.weight']                    = T(new_wm)\n",
    "lm_wgts_wiki['0.encoder_with_dropout.embed.weight'] = T(np.copy(new_wm))\n",
    "lm_wgts_wiki['1.decoder.weight']                    = T(np.copy(new_wm))"
   ]
  },
  {
   "cell_type": "code",
   "execution_count": 9,
   "metadata": {
    "colab": {},
    "colab_type": "code",
    "id": "GRCppTrCP0SR"
   },
   "outputs": [
    {
     "ename": "NameError",
     "evalue": "name 'trn_dl' is not defined",
     "output_type": "error",
     "traceback": [
      "\u001b[1;31m---------------------------------------------------------------------------\u001b[0m",
      "\u001b[1;31mNameError\u001b[0m                                 Traceback (most recent call last)",
      "\u001b[1;32m<ipython-input-9-1ece99198b78>\u001b[0m in \u001b[0;36m<module>\u001b[1;34m\u001b[0m\n\u001b[0;32m      2\u001b[0m \u001b[1;33m\u001b[0m\u001b[0m\n\u001b[0;32m      3\u001b[0m \u001b[1;33m\u001b[0m\u001b[0m\n\u001b[1;32m----> 4\u001b[1;33m md = LanguageModelData('', pad_idx = 1, n_tok = len(itos), trn_dl = trn_dl, val_dl = val_dl, bs = bs, \n\u001b[0m\u001b[0;32m      5\u001b[0m                        bptt = bptt)\n\u001b[0;32m      6\u001b[0m \u001b[1;33m\u001b[0m\u001b[0m\n",
      "\u001b[1;31mNameError\u001b[0m: name 'trn_dl' is not defined"
     ]
    }
   ],
   "source": [
    "## CREATE MODEL ARCHITECTURE\n",
    "\n",
    "\n",
    "md = LanguageModelData('', pad_idx = 1, n_tok = len(itos), trn_dl = trn_dl, val_dl = val_dl, bs = bs, \n",
    "                       bptt = bptt)\n",
    "\n",
    "# define droupout parameters and create model architecture\n",
    "drops   = np.array([0.25, 0.1, 0.2, 0.02, 0.15])*0.7\n",
    "learner = md.get_model(opt_fn, em_sz, nh, nl, \n",
    "          dropouti = drops[0], dropout = drops[1], wdrop = drops[2],\n",
    "          dropoute = drops[3], dropouth = drops[4])\n",
    "\n",
    "learner.metrics = [accuracy]\n",
    "learner.freeze_to(-1)"
   ]
  },
  {
   "cell_type": "code",
   "execution_count": 8,
   "metadata": {
    "colab": {
     "base_uri": "https://localhost:8080/",
     "height": 1020
    },
    "colab_type": "code",
    "executionInfo": {
     "elapsed": 25408,
     "status": "ok",
     "timestamp": 1549317047792,
     "user": {
      "displayName": "Michael Schimpke",
      "photoUrl": "",
      "userId": "08866054739853401103"
     },
     "user_tz": -60
    },
    "id": "8IDb-JyHP0SS",
    "outputId": "6aa675c6-d78a-496a-f2d7-f6c514057c8f"
   },
   "outputs": [
    {
     "data": {
      "application/vnd.jupyter.widget-view+json": {
       "model_id": "1ccdc3c99db248769bc9d50efbe4b77f",
       "version_major": 2,
       "version_minor": 0
      },
      "text/plain": [
       "HBox(children=(IntProgress(value=0, description='Epoch', max=3, style=ProgressStyle(description_width='initial…"
      ]
     },
     "metadata": {},
     "output_type": "display_data"
    },
    {
     "name": "stdout",
     "output_type": "stream",
     "text": [
      "epoch      trn_loss   val_loss   accuracy                                                                              \n",
      "    0      6.586737   6.163485   0.139035  \n",
      "    1      5.930291   5.278863   0.207233                                                                              \n",
      "    2      5.439476   5.015949   0.234874                                                                              \n",
      "\n"
     ]
    },
    {
     "data": {
      "text/plain": [
       "[array([5.01595]), 0.2348736673593521]"
      ]
     },
     "execution_count": 8,
     "metadata": {},
     "output_type": "execute_result"
    }
   ],
   "source": [
    "# load model weights from pretrained wikipedia model\n",
    "learner.model.load_state_dict(lm_wgts_wiki)\n",
    "\n",
    "\n",
    "# set initial learning rate\n",
    "lr  = 1e-3\n",
    "\n",
    "\n",
    "# fit model with frozen lstm for one epoch\n",
    "learner.fit(lr, 1, wds = wd, use_clr = (32,2), cycle_len = 3) "
   ]
  },
  {
   "cell_type": "code",
   "execution_count": 9,
   "metadata": {
    "colab": {
     "base_uri": "https://localhost:8080/",
     "height": 1020
    },
    "colab_type": "code",
    "executionInfo": {
     "elapsed": 53175,
     "status": "ok",
     "timestamp": 1549317075866,
     "user": {
      "displayName": "Michael Schimpke",
      "photoUrl": "",
      "userId": "08866054739853401103"
     },
     "user_tz": -60
    },
    "id": "hYW-YwXDP0SU",
    "outputId": "08d0fa1f-7eec-4670-ec75-0a570a357358"
   },
   "outputs": [
    {
     "data": {
      "application/vnd.jupyter.widget-view+json": {
       "model_id": "cc0d0657c5a647c0b2e9caf8371deb9f",
       "version_major": 2,
       "version_minor": 0
      },
      "text/plain": [
       "HBox(children=(IntProgress(value=0, description='Epoch', max=1, style=ProgressStyle(description_width='initial…"
      ]
     },
     "metadata": {},
     "output_type": "display_data"
    },
    {
     "name": "stdout",
     "output_type": "stream",
     "text": [
      " 89%|██████████████████████████████████████████████████████████████▉        | 55/62 [00:26<00:03,  2.06it/s, loss=22.4]"
     ]
    },
    {
     "data": {
      "image/png": "[encoded data removed]",
      "text/plain": [
       "<Figure size 432x288 with 1 Axes>"
      ]
     },
     "metadata": {
      "needs_background": "light"
     },
     "output_type": "display_data"
    }
   ],
   "source": [
    "# save learner for further training\n",
    "learner.save('lm_last_ft')\n",
    "\n",
    "\n",
    "# unfreeze all layers\n",
    "learner.unfreeze()\n",
    "\n",
    "\n",
    "# perform and plot algorithm to find optimal learning rate\n",
    "learner.lr_find(lr/1000)\n",
    "learner.sched.plot()"
   ]
  },
  {
   "cell_type": "code",
   "execution_count": 10,
   "metadata": {
    "colab": {
     "base_uri": "https://localhost:8080/",
     "height": 1020
    },
    "colab_type": "code",
    "executionInfo": {
     "elapsed": 131510,
     "status": "ok",
     "timestamp": 1549317162736,
     "user": {
      "displayName": "Michael Schimpke",
      "photoUrl": "",
      "userId": "08866054739853401103"
     },
     "user_tz": -60
    },
    "id": "wEHupMGlP0SV",
    "outputId": "6ef108ad-7c95-4418-c105-3b922e2c7947",
    "scrolled": true
   },
   "outputs": [
    {
     "data": {
      "application/vnd.jupyter.widget-view+json": {
       "model_id": "cdfa6b91e5b84466afc4db331b9a680e",
       "version_major": 2,
       "version_minor": 0
      },
      "text/plain": [
       "HBox(children=(IntProgress(value=0, description='Epoch', max=3, style=ProgressStyle(description_width='initial…"
      ]
     },
     "metadata": {},
     "output_type": "display_data"
    },
    {
     "name": "stdout",
     "output_type": "stream",
     "text": [
      "epoch      trn_loss   val_loss   accuracy                                                                              \n",
      "    0      3.5965     2.912739   0.484899  \n",
      "    1      3.024697   2.706622   0.515156                                                                              \n",
      "    2      2.700665   2.624533   0.530128                                                                              \n"
     ]
    },
    {
     "data": {
      "text/plain": [
       "[array([2.62453]), 0.530128408481579]"
      ]
     },
     "execution_count": 10,
     "metadata": {},
     "output_type": "execute_result"
    }
   ],
   "source": [
    "learner.load('lm_last_ft')\n",
    "\n",
    "\n",
    "# set discriminative learning rate\n",
    "lr  = 1e-2\n",
    "lrm = 2.6\n",
    "lrs = np.array([lr/(lrm**3), lr/(lrm**2), lr/lrm, lr])\n",
    "\n",
    "\n",
    "# fit model with unfrozen lstm layers until it overfits\n",
    "learner.fit(lrs, 1, wds = wd, use_clr = (20,10), cycle_len = 3)"
   ]
  },
  {
   "cell_type": "code",
   "execution_count": 11,
   "metadata": {
    "colab": {},
    "colab_type": "code",
    "id": "wePEufHBP0SW"
   },
   "outputs": [],
   "source": [
    "# save complete model and encoder\n",
    "learner.save('lm2')\n",
    "learner.save_encoder('lm2_enc')"
   ]
  },
  {
   "cell_type": "code",
   "execution_count": 12,
   "metadata": {
    "colab": {
     "base_uri": "https://localhost:8080/",
     "height": 154
    },
    "colab_type": "code",
    "executionInfo": {
     "elapsed": 111755,
     "status": "ok",
     "timestamp": 1549317181011,
     "user": {
      "displayName": "Michael Schimpke",
      "photoUrl": "",
      "userId": "08866054739853401103"
     },
     "user_tz": -60
    },
    "id": "pcpgZsOuP0SX",
    "outputId": "58396561-7f36-440d-cc95-812a1bbc9d67"
   },
   "outputs": [
    {
     "name": "stdout",
     "output_type": "stream",
     "text": [
      "0\n",
      "1\n",
      "2\n",
      "0\n"
     ]
    }
   ],
   "source": [
    "## DATA PREPARATION FOR CLASSIFIER\n",
    "\n",
    "# tokenize saved training and validation datasets\n",
    "df_trn = pd.read_csv(clas_path/'train.csv', header = None, chunksize = chunksize)\n",
    "df_val = pd.read_csv(clas_path/'test.csv', header = None, chunksize = chunksize)\n",
    "\n",
    "tok_trn, trn_labels = Prep.get_all(df_trn, 1)\n",
    "tok_val, val_labels = Prep.get_all(df_val, 1)\n",
    "\n",
    "\n",
    "(clas_path/'tmp').mkdir(exist_ok = True)\n",
    "np.save(clas_path/'tmp'/'tok_trn.npy', tok_trn)\n",
    "np.save(clas_path/'tmp'/'tok_val.npy', tok_val)\n",
    "np.save(clas_path/'tmp'/'trn_labels.npy', trn_labels)\n",
    "np.save(clas_path/'tmp'/'val_labels.npy', val_labels)\n",
    "tok_trn = np.load(clas_path/'tmp'/'tok_trn.npy')\n",
    "tok_val = np.load(clas_path/'tmp'/'tok_val.npy')"
   ]
  },
  {
   "cell_type": "code",
   "execution_count": 13,
   "metadata": {
    "colab": {},
    "colab_type": "code",
    "id": "BrXwI5T9_Ksh"
   },
   "outputs": [],
   "source": [
    "# load vocabulary from language model\n",
    "itos = pickle.load((lm_path/'itos.pkl').open('rb'))\n",
    "stoi = collections.defaultdict(lambda:0, {v:k for k,v in \n",
    "                                          enumerate(itos)})"
   ]
  },
  {
   "cell_type": "code",
   "execution_count": 14,
   "metadata": {
    "colab": {},
    "colab_type": "code",
    "id": "Za-sXRKcP0SY"
   },
   "outputs": [],
   "source": [
    "# encode tokens\n",
    "trn_clas = np.array([[stoi[o] for o in p] for p in tok_trn])\n",
    "val_clas = np.array([[stoi[o] for o in p] for p in tok_val])\n",
    "np.save(clas_path/'tmp'/'trn_ids.npy', trn_clas)\n",
    "np.save(clas_path/'tmp'/'val_ids.npy', val_clas)"
   ]
  },
  {
   "cell_type": "code",
   "execution_count": 15,
   "metadata": {
    "colab": {},
    "colab_type": "code",
    "id": "RJ6jZ9MtP0SZ"
   },
   "outputs": [],
   "source": [
    "trn_clas   = np.load(clas_path/'tmp'/'trn_ids.npy')\n",
    "val_clas   = np.load(clas_path/'tmp'/'val_ids.npy')\n",
    "trn_labels = np.load(clas_path/'tmp'/'trn_labels.npy')\n",
    "val_labels = np.load(clas_path/'tmp'/'val_labels.npy')"
   ]
  },
  {
   "cell_type": "code",
   "execution_count": 16,
   "metadata": {
    "colab": {},
    "colab_type": "code",
    "id": "IWx05l_vP0Sa"
   },
   "outputs": [],
   "source": [
    "# set hyperparameters\n",
    "bptt, nh   = 70, 1150  # number of hidden activations per layer \n",
    " \n",
    "em_sz, nl  = 400,3 # size of each embedding vector, number of layers\n",
    "\n",
    "bs, c      = 64, 3\n",
    "vs         = len(itos)\n",
    "\n",
    "opt_fn = partial(optim.Adam, betas = (0.8, 0.99))"
   ]
  },
  {
   "cell_type": "code",
   "execution_count": 17,
   "metadata": {
    "colab": {},
    "colab_type": "code",
    "id": "ZKnUHfRsP0Sb"
   },
   "outputs": [],
   "source": [
    "## CREATE MODEL ARCHITECTURE\n",
    "\n",
    "import functions as fct\n",
    "\n",
    "# function using sampler and data loader from fastai library\n",
    "md = fct.data_loader('', trn_clas, val_clas, trn_labels, val_labels, bs = bs, pad_idx = 1)\n",
    "\n",
    "\n",
    "# define droupout parameters and create model architecture\n",
    "dps = np.array([0.4, 0.5, 0.05, 0.3, 0.4])*0.7\n",
    "m   = get_rnn_classifer(bptt, 20*70, c, vs, emb_sz = em_sz, n_hid = nh, \n",
    "                        n_layers = nl, pad_token = 1,\n",
    "                        layers   = [em_sz*3, 50, c], drops = [dps[4], 0.1],\n",
    "                        dropouti = dps[0], wdrop = dps[1],        \n",
    "                        dropoute = dps[2], dropouth = dps[3])"
   ]
  },
  {
   "cell_type": "code",
   "execution_count": 18,
   "metadata": {
    "colab": {},
    "colab_type": "code",
    "id": "-KzSi_J5P0Sc"
   },
   "outputs": [],
   "source": [
    "# building classifier model\n",
    "learn         = RNN_Learner(md, TextModel(to_gpu(m)), opt_fn = opt_fn)\n",
    "learn.reg_fn  = partial(seq2seq_reg, alpha = 2, beta = 1)\n",
    "learn.clip    = .25\n",
    "\n",
    "#ACC = sum(p_val==test_labels,1)/length(test_labels)\n",
    "learn.metrics = [accuracy]"
   ]
  },
  {
   "cell_type": "code",
   "execution_count": 19,
   "metadata": {
    "colab": {},
    "colab_type": "code",
    "id": "edNhIpaTP0Se"
   },
   "outputs": [],
   "source": [
    "# set discriminative learning rate\n",
    "lr  = 3e-3\n",
    "lrm = 2.6\n",
    "lrs = np.array([lr/(lrm**4), lr/(lrm**3), lr/(lrm**2), lr/lrm, lr])"
   ]
  },
  {
   "cell_type": "code",
   "execution_count": 20,
   "metadata": {},
   "outputs": [],
   "source": [
    "lrs=np.array([1e-4,1e-4,1e-4,1e-3,1e-2])"
   ]
  },
  {
   "cell_type": "code",
   "execution_count": 21,
   "metadata": {
    "colab": {},
    "colab_type": "code",
    "id": "HGI1ijzOP0Se"
   },
   "outputs": [],
   "source": [
    "# set weight decay and load encoder from language model\n",
    "wd = 1e-7\n",
    "wd = 0\n",
    "learn.load_encoder('lm2_enc')"
   ]
  },
  {
   "cell_type": "code",
   "execution_count": 22,
   "metadata": {
    "colab": {
     "base_uri": "https://localhost:8080/",
     "height": 1020
    },
    "colab_type": "code",
    "executionInfo": {
     "elapsed": 11624,
     "status": "ok",
     "timestamp": 1549317214738,
     "user": {
      "displayName": "Michael Schimpke",
      "photoUrl": "",
      "userId": "08866054739853401103"
     },
     "user_tz": -60
    },
    "id": "EWduA-iIP0Sf",
    "outputId": "00a6a161-0fcb-4616-e477-91c1f6c46b3e",
    "scrolled": false
   },
   "outputs": [
    {
     "data": {
      "application/vnd.jupyter.widget-view+json": {
       "model_id": "d77b814d4dad4a69a5c76fa7a84c6b8d",
       "version_major": 2,
       "version_minor": 0
      },
      "text/plain": [
       "HBox(children=(IntProgress(value=0, description='Epoch', max=1, style=ProgressStyle(description_width='initial…"
      ]
     },
     "metadata": {},
     "output_type": "display_data"
    },
    {
     "name": "stdout",
     "output_type": "stream",
     "text": [
      " 89%|█████████████████████████████████████████████████████████████▍       | 155/174 [00:11<00:01, 12.87it/s, loss=4.43]"
     ]
    },
    {
     "data": {
      "image/png": "[encoded data removed]",
      "text/plain": [
       "<Figure size 432x288 with 1 Axes>"
      ]
     },
     "metadata": {
      "needs_background": "light"
     },
     "output_type": "display_data"
    },
    {
     "name": "stdout",
     "output_type": "stream",
     "text": [
      "\r",
      " 89%|█████████████████████████████████████████████████████████████▍       | 155/174 [00:30<00:01, 12.87it/s, loss=4.43]"
     ]
    }
   ],
   "source": [
    "# freeze lstms and relu layer\n",
    "learn.freeze_to(-1)\n",
    "\n",
    "\n",
    "# perform and plot algorithm to find optimal learning rate\n",
    "learn.lr_find(lrs/1000)\n",
    "learn.sched.plot()"
   ]
  },
  {
   "cell_type": "code",
   "execution_count": 23,
   "metadata": {},
   "outputs": [],
   "source": [
    "# readjust discriminative learning rate if necessary\n",
    "lr  = 3e-3\n",
    "lrm = 2.6\n",
    "lrs = np.array([lr/(lrm**4), lr/(lrm**3), lr/(lrm**2), lr/lrm, lr])"
   ]
  },
  {
   "cell_type": "code",
   "execution_count": 24,
   "metadata": {},
   "outputs": [],
   "source": [
    "learn.save('clas_0')\n",
    "learn.load('clas_0')\n",
    "learn.freeze_to(-2)"
   ]
  },
  {
   "cell_type": "code",
   "execution_count": 25,
   "metadata": {
    "colab": {
     "base_uri": "https://localhost:8080/",
     "height": 1020
    },
    "colab_type": "code",
    "executionInfo": {
     "elapsed": 24538,
     "status": "ok",
     "timestamp": 1549317228288,
     "user": {
      "displayName": "Michael Schimpke",
      "photoUrl": "",
      "userId": "08866054739853401103"
     },
     "user_tz": -60
    },
    "id": "o5IO33nnP0Sg",
    "outputId": "cde51fc5-2ea1-46d9-ba01-bd763624e37e"
   },
   "outputs": [
    {
     "data": {
      "application/vnd.jupyter.widget-view+json": {
       "model_id": "94422a9cd26d4ab9a756d2b879f2a518",
       "version_major": 2,
       "version_minor": 0
      },
      "text/plain": [
       "HBox(children=(IntProgress(value=0, description='Epoch', max=1, style=ProgressStyle(description_width='initial…"
      ]
     },
     "metadata": {},
     "output_type": "display_data"
    },
    {
     "name": "stdout",
     "output_type": "stream",
     "text": [
      "epoch      trn_loss   val_loss   accuracy                                                                              \n",
      "    0      0.864027   0.749293   0.696453  \n"
     ]
    },
    {
     "data": {
      "text/plain": [
       "[array([0.74929]), 0.6964534729283031]"
      ]
     },
     "execution_count": 25,
     "metadata": {},
     "output_type": "execute_result"
    }
   ],
   "source": [
    "# fit frozen model for one epoch\n",
    "learn.fit(lrs, 1, wds = wd, cycle_len = 1, use_clr = (8,3))\n"
   ]
  },
  {
   "cell_type": "code",
   "execution_count": 26,
   "metadata": {
    "colab": {
     "base_uri": "https://localhost:8080/",
     "height": 1020
    },
    "colab_type": "code",
    "executionInfo": {
     "elapsed": 39837,
     "status": "ok",
     "timestamp": 1549317244532,
     "user": {
      "displayName": "Michael Schimpke",
      "photoUrl": "",
      "userId": "08866054739853401103"
     },
     "user_tz": -60
    },
    "id": "1WmZEkFpP0Sh",
    "outputId": "d3b0811e-982d-4cfd-99c1-e79181040e08"
   },
   "outputs": [
    {
     "data": {
      "application/vnd.jupyter.widget-view+json": {
       "model_id": "122e8ea45f1349d5a217ec12bfc6e9ce",
       "version_major": 2,
       "version_minor": 0
      },
      "text/plain": [
       "HBox(children=(IntProgress(value=0, description='Epoch', max=1, style=ProgressStyle(description_width='initial…"
      ]
     },
     "metadata": {},
     "output_type": "display_data"
    },
    {
     "name": "stdout",
     "output_type": "stream",
     "text": [
      "epoch      trn_loss   val_loss   accuracy                                                                              \n",
      "    0      0.81292    0.717774   0.705863  \n"
     ]
    }
   ],
   "source": [
    "learn.save('clas_0')\n",
    "learn.load('clas_0')\n",
    "\n",
    "\n",
    "# unfreeze relu layer and fit another epoch\n",
    "learn.freeze_to(-2)\n",
    "learn.fit(lrs, 1, wds = wd, cycle_len = 1, use_clr = (8,3))\n",
    "\n",
    "learn.save('clas_1')"
   ]
  },
  {
   "cell_type": "code",
   "execution_count": 27,
   "metadata": {
    "colab": {
     "base_uri": "https://localhost:8080/",
     "height": 1020
    },
    "colab_type": "code",
    "executionInfo": {
     "elapsed": 165535,
     "status": "ok",
     "timestamp": 1549320054894,
     "user": {
      "displayName": "Michael Schimpke",
      "photoUrl": "",
      "userId": "08866054739853401103"
     },
     "user_tz": -60
    },
    "id": "z2tS3RtWP0Sh",
    "outputId": "3b539f8e-d03c-4bf0-9163-a337667975ff"
   },
   "outputs": [
    {
     "name": "stdout",
     "output_type": "stream",
     "text": [
      "Accuracy = 95.7838% (2658/2775) (classification)\n"
     ]
    },
    {
     "data": {
      "image/png": "[encoded data removed]",
      "text/plain": [
       "<Figure size 432x288 with 1 Axes>"
      ]
     },
     "metadata": {
      "needs_background": "light"
     },
     "output_type": "display_data"
    }
   ],
   "source": [
    "learn.load('clas_1')\n",
    "\n",
    "\n",
    "# unfreeze all layers and execute final fit\n",
    "learn.unfreeze()\n",
    "#learn.fit(lrs, 1, wds = wd, cycle_len = 2, use_clr = (32,10))\n",
    "\n",
    "import os\n",
    "os.chdir(r'C:\\Users\\lenovo\\Anaconda3\\fastai\\SIS_ULMFiT-master\\libsvm-3.23\\python')\n",
    "from svm import *\n",
    "from svmutil import *\n",
    "\n",
    "from svm import __all__ as svm_all\n",
    "from svm import scipy, sparse\n",
    "\n",
    "prob = svm_problem( val_labels, val_clas)\n",
    "param = svm_parameter('-t 2 -c  5.6569 -g 1.0667 -b 1') \n",
    "model = svm_train(prob, param) \n",
    "p_label, p_acc, p_val = svm_predict(val_labels, val_clas,model,'-b 1')\n",
    "ACC, MSE, SCC = evaluations(val_labels, p_label)\n",
    "#ACC = sum(p_val==test_labels,1)/length(test_labels)\n",
    "#learn.metrics = [accuracy]\n",
    "\n",
    "\n",
    "learn.sched.plot_loss()\n",
    "#learn.save('clas_2')"
   ]
  },
  {
   "cell_type": "code",
   "execution_count": 29,
   "metadata": {},
   "outputs": [
    {
     "ename": "AttributeError",
     "evalue": "'float' object has no attribute 'p_label'",
     "output_type": "error",
     "traceback": [
      "\u001b[1;31m---------------------------------------------------------------------------\u001b[0m",
      "\u001b[1;31mAttributeError\u001b[0m                            Traceback (most recent call last)",
      "\u001b[1;32m<ipython-input-29-602834cbe1fb>\u001b[0m in \u001b[0;36m<module>\u001b[1;34m\u001b[0m\n\u001b[0;32m      4\u001b[0m      \u001b[0mplt\u001b[0m\u001b[1;33m.\u001b[0m\u001b[0mplot\u001b[0m\u001b[1;33m(\u001b[0m\u001b[0mself\u001b[0m\u001b[1;33m.\u001b[0m\u001b[0mp_label\u001b[0m\u001b[1;33m,\u001b[0m \u001b[0mself\u001b[0m\u001b[1;33m.\u001b[0m\u001b[0mACC\u001b[0m\u001b[1;33m)\u001b[0m\u001b[1;33m\u001b[0m\u001b[1;33m\u001b[0m\u001b[0m\n\u001b[0;32m      5\u001b[0m \u001b[1;33m\u001b[0m\u001b[0m\n\u001b[1;32m----> 6\u001b[1;33m \u001b[0mplot_Acc\u001b[0m\u001b[1;33m(\u001b[0m\u001b[0mACC\u001b[0m\u001b[1;33m)\u001b[0m\u001b[1;33m\u001b[0m\u001b[1;33m\u001b[0m\u001b[0m\n\u001b[0m",
      "\u001b[1;32m<ipython-input-29-602834cbe1fb>\u001b[0m in \u001b[0;36mplot_Acc\u001b[1;34m(self)\u001b[0m\n\u001b[0;32m      2\u001b[0m      \u001b[0mplt\u001b[0m\u001b[1;33m.\u001b[0m\u001b[0mxlabel\u001b[0m\u001b[1;33m(\u001b[0m\u001b[1;34m\"iterations\"\u001b[0m\u001b[1;33m)\u001b[0m\u001b[1;33m\u001b[0m\u001b[1;33m\u001b[0m\u001b[0m\n\u001b[0;32m      3\u001b[0m      \u001b[0mplt\u001b[0m\u001b[1;33m.\u001b[0m\u001b[0mylabel\u001b[0m\u001b[1;33m(\u001b[0m\u001b[1;34m\"Accuracy\"\u001b[0m\u001b[1;33m)\u001b[0m\u001b[1;33m\u001b[0m\u001b[1;33m\u001b[0m\u001b[0m\n\u001b[1;32m----> 4\u001b[1;33m      \u001b[0mplt\u001b[0m\u001b[1;33m.\u001b[0m\u001b[0mplot\u001b[0m\u001b[1;33m(\u001b[0m\u001b[0mself\u001b[0m\u001b[1;33m.\u001b[0m\u001b[0mp_label\u001b[0m\u001b[1;33m,\u001b[0m \u001b[0mself\u001b[0m\u001b[1;33m.\u001b[0m\u001b[0mACC\u001b[0m\u001b[1;33m)\u001b[0m\u001b[1;33m\u001b[0m\u001b[1;33m\u001b[0m\u001b[0m\n\u001b[0m\u001b[0;32m      5\u001b[0m \u001b[1;33m\u001b[0m\u001b[0m\n\u001b[0;32m      6\u001b[0m \u001b[0mplot_Acc\u001b[0m\u001b[1;33m(\u001b[0m\u001b[0mACC\u001b[0m\u001b[1;33m)\u001b[0m\u001b[1;33m\u001b[0m\u001b[1;33m\u001b[0m\u001b[0m\n",
      "\u001b[1;31mAttributeError\u001b[0m: 'float' object has no attribute 'p_label'"
     ]
    },
    {
     "data": {
      "image/png": "[encoded data removed]",
      "text/plain": [
       "<Figure size 432x288 with 1 Axes>"
      ]
     },
     "metadata": {
      "needs_background": "light"
     },
     "output_type": "display_data"
    }
   ],
   "source": [
    "   def plot_Acc(self):\n",
    "        plt.xlabel(\"iterations\")\n",
    "        plt.ylabel(\"Accuracy\")\n",
    "        plt.plot(self.p_label, self.ACC)\n",
    "\n",
    "plot_Acc(ACC)"
   ]
  },
  {
   "cell_type": "code",
   "execution_count": null,
   "metadata": {
    "colab": {},
    "colab_type": "code",
    "id": "c-biurGJ8_oq"
   },
   "outputs": [],
   "source": []
  },
  {
   "cell_type": "code",
   "execution_count": null,
   "metadata": {},
   "outputs": [],
   "source": []
  }
 ],
 "metadata": {
  "accelerator": "GPU",
  "colab": {
   "collapsed_sections": [],
   "name": "Code_komplett.ipynb",
   "provenance": [],
   "version": "0.3.2"
  },
  "kernelspec": {
   "display_name": "Python 3",
   "language": "python",
   "name": "python3"
  },
  "language_info": {
   "codemirror_mode": {
    "name": "ipython",
    "version": 3
   },
   "file_extension": ".py",
   "mimetype": "text/x-python",
   "name": "python",
   "nbconvert_exporter": "python",
   "pygments_lexer": "ipython3",
   "version": "3.6.9"
  }
 },
 "nbformat": 4,
 "nbformat_minor": 1
}
