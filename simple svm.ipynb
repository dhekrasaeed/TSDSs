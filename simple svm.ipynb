{
 "cells": [
  {
   "cell_type": "code",
   "execution_count": 6,
   "metadata": {},
   "outputs": [],
   "source": [
    "import os\n",
    "os.chdir(r'C:\\Users\\lenovo\\Anaconda3\\fastai\\SIS_ULMFiT-master\\libsvm-3.23\\python')\n",
    "from svmutil import *\n",
    "import pandas as pd\n",
    "import numpy as np\n"
   ]
  },
  {
   "cell_type": "code",
   "execution_count": 8,
   "metadata": {},
   "outputs": [
    {
     "name": "stdout",
     "output_type": "stream",
     "text": [
      "Model supports probability estimates, but disabled in predicton.\n",
      "Accuracy = 100% (1/1) (classification)\n",
      "[1.0]\n"
     ]
    }
   ],
   "source": [
    "import os\n",
    "os.chdir(r'C:\\Users\\lenovo\\Anaconda3\\fastai\\SIS_ULMFiT-master\\libsvm-3.23\\python')\n",
    "from svmutil import *\n",
    "\n",
    "    \n",
    "y, x = [1,-1], [{1:1, 2:1}, {1:-1,2:-1}]\n",
    "prob  = svm_problem(y, x)\n",
    "param = svm_parameter('-t 0 -c 4 -b 1')\n",
    "model = svm_train(prob, param)\n",
    "yt = [1]\n",
    "xt = [{1:1, 2:1}]\n",
    "p_label, p_acc, p_val = svm_predict(yt, xt, model)\n",
    "print(p_label)"
   ]
  },
  {
   "cell_type": "code",
   "execution_count": null,
   "metadata": {},
   "outputs": [],
   "source": [
    "\n"
   ]
  },
  {
   "cell_type": "code",
   "execution_count": null,
   "metadata": {},
   "outputs": [],
   "source": []
  }
 ],
 "metadata": {
  "kernelspec": {
   "display_name": "Python 3",
   "language": "python",
   "name": "python3"
  },
  "language_info": {
   "codemirror_mode": {
    "name": "ipython",
    "version": 3
   },
   "file_extension": ".py",
   "mimetype": "text/x-python",
   "name": "python",
   "nbconvert_exporter": "python",
   "pygments_lexer": "ipython3",
   "version": "3.6.8"
  }
 },
 "nbformat": 4,
 "nbformat_minor": 2
}
